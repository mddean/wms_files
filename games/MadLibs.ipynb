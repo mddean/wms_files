{
 "cells": [
  {
   "cell_type": "code",
   "execution_count": null,
   "id": "0764173d",
   "metadata": {},
   "outputs": [],
   "source": [
    "noun = input(\"Choose a noun: \")\n",
    "\n",
    "p_noun = input(\"Choose a plural noun: \")\n",
    "\n",
    "noun2 = input(\"Choose a noun: \")\n",
    "\n",
    "place = input(\"Name a place: \")\n",
    "\n",
    "adjective = input(\"Choose an adjective (Describing word): \")\n",
    "\n",
    "noun3 = input(\"Choose a noun: \")\n",
    "\n",
    "\n",
    "\n",
    "print (\"------------------------------------------\")\n",
    "\n",
    "print (\"Be kind to your\",noun,\"- footed\", p_noun)\n",
    "\n",
    "print (\"For a duck may be somebody's\", noun2,\",\")\n",
    "\n",
    "print (\"Be kind to your\",p_noun,\"in\",place)\n",
    "\n",
    "print (\"Where the weather is always\",adjective,\".\")\n",
    "\n",
    "print ()\n",
    "\n",
    "print (\"You may think that is this the\",noun3,\",\")\n",
    "\n",
    "print (\"Well it is.\")\n",
    "\n",
    "print (\"------------------------------------------\")"
   ]
  }
 ],
 "metadata": {
  "kernelspec": {
   "display_name": "Python 3 (ipykernel)",
   "language": "python",
   "name": "python3"
  },
  "language_info": {
   "codemirror_mode": {
    "name": "ipython",
    "version": 3
   },
   "file_extension": ".py",
   "mimetype": "text/x-python",
   "name": "python",
   "nbconvert_exporter": "python",
   "pygments_lexer": "ipython3",
   "version": "3.9.9"
  }
 },
 "nbformat": 4,
 "nbformat_minor": 5
}
