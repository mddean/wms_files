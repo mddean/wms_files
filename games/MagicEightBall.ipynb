{
 "cells": [
  {
   "cell_type": "code",
   "execution_count": 1,
   "id": "d0c15ac1",
   "metadata": {},
   "outputs": [
    {
     "name": "stdout",
     "output_type": "stream",
     "text": [
      "  __  __          _____ _____ _____    ___  \n",
      " |  \\/  |   /\\   / ____|_   _/ ____|  / _ \\ \n",
      " | \\  / |  /  \\ | |  __  | || |      | (_) |\n",
      " | |\\/| | / /\\ \\| | |_ | | || |       > _ < \n",
      " | |  | |/ ____ \\ |__| |_| || |____  | (_) |\n",
      " |_|  |_/_/    \\_\\_____|_____\\_____|  \\___/ \n",
      "\n",
      "\n",
      "\n",
      "Hello World, I am the Magic 8 Ball, What is your name?\n",
      "jenn\n",
      "hello jenn\n",
      "Ask me a question.\n",
      "what time is it?\n",
      "Most likely\n",
      "I hope that helped!\n",
      "Do you have another question? [Y/N] \n",
      "y\n",
      "I apologies, I did not catch that. Please repeat.\n",
      "Do you have another question? [Y/N] \n",
      "Y\n",
      "Ask me a question.\n",
      "jlkklfjdklfj\n",
      "Better not tell you now\n",
      "I hope that helped!\n",
      "Do you have another question? [Y/N] \n",
      "y\n",
      "I apologies, I did not catch that. Please repeat.\n",
      "Do you have another question? [Y/N] \n",
      "n\n",
      "I apologies, I did not catch that. Please repeat.\n",
      "Do you have another question? [Y/N] \n",
      "N\n"
     ]
    }
   ],
   "source": [
    "#Make a Magic 8 ball\n",
    "#https://github.com/viljow/magic8/blob/master/main.py\n",
    "import random\n",
    "answers = ['It is certain', 'It is decidedly so', 'Without a doubt', 'Yes – definitely', 'You may rely on it', 'As I see it, yes', 'Most likely', 'Outlook good', 'Yes Signs point to yes', 'Reply hazy', 'try again', 'Ask again later', 'Better not tell you now', 'Cannot predict now', 'Concentrate and ask again', 'Dont count on it', 'My reply is no', 'My sources say no', 'Outlook not so good', 'Very doubtful']\n",
    "\n",
    "print('  __  __          _____ _____ _____    ___  ')\n",
    "print(' |  \\/  |   /\\   / ____|_   _/ ____|  / _ \\ ')\n",
    "print(' | \\  / |  /  \\ | |  __  | || |      | (_) |')\n",
    "print(' | |\\/| | / /\\ \\| | |_ | | || |       > _ < ')\n",
    "print(' | |  | |/ ____ \\ |__| |_| || |____  | (_) |')\n",
    "print(' |_|  |_/_/    \\_\\_____|_____\\_____|  \\___/ ')\n",
    "print('')\n",
    "print('')\n",
    "print('')\n",
    "print('Hello World, I am the Magic 8 Ball, What is your name?')\n",
    "name = input()\n",
    "print('hello ' + name)\n",
    "\n",
    "\n",
    "def Magic8Ball():\n",
    "    print('Ask me a question.')\n",
    "    input()\n",
    "    print (answers[random.randint(0, len(answers)-1)] )\n",
    "    print('I hope that helped!')\n",
    "    Replay()\n",
    "    \n",
    "\n",
    "def Replay():\n",
    "    print ('Do you have another question? [Y/N] ')\n",
    "    reply = input()\n",
    "    if reply == 'Y':\n",
    "        Magic8Ball()\n",
    "    elif reply == 'N':\n",
    "        exit()\n",
    "    else:\n",
    "        print('I apologies, I did not catch that. Please repeat.')\n",
    "        Replay()\n",
    "\n",
    "\t\t\n",
    "Magic8Ball()"
   ]
  },
  {
   "cell_type": "code",
   "execution_count": null,
   "id": "9f4aef08",
   "metadata": {},
   "outputs": [],
   "source": []
  }
 ],
 "metadata": {
  "kernelspec": {
   "display_name": "Python 3 (ipykernel)",
   "language": "python",
   "name": "python3"
  },
  "language_info": {
   "codemirror_mode": {
    "name": "ipython",
    "version": 3
   },
   "file_extension": ".py",
   "mimetype": "text/x-python",
   "name": "python",
   "nbconvert_exporter": "python",
   "pygments_lexer": "ipython3",
   "version": "3.9.9"
  }
 },
 "nbformat": 4,
 "nbformat_minor": 5
}
