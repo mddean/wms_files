{
 "cells": [
  {
   "cell_type": "markdown",
   "id": "f9d66a84",
   "metadata": {},
   "source": [
    "<font size=\"7\">MindReader</font>"
   ]
  },
  {
   "cell_type": "markdown",
   "id": "259b90a1",
   "metadata": {},
   "source": [
    "**MindReader** is a game similar to rock-paper-scissors against <font color='red'>a bot</font>. <font color='green'>You</font> choose a number **0 or 1**. <font color='red'>The bot</font> tries to guess <font color='green'>your</font> number using probabilities. If it is correct <font color='red'>the bot</font> gets a point, otherwise <font color='green'>you</font> get a point. The first to 7 wins!"
   ]
  },
  {
   "cell_type": "code",
   "execution_count": 7,
   "id": "c8d80122",
   "metadata": {},
   "outputs": [
    {
     "data": {
      "application/vnd.jupyter.widget-view+json": {
       "model_id": "6641273ada174bb6958b3aa4dd6f8cb2",
       "version_major": 2,
       "version_minor": 0
      },
      "text/plain": [
       "VBox(children=(HBox(children=(VBox(children=(IntProgress(value=0, bar_style='success', description='You:', max…"
      ]
     },
     "metadata": {},
     "output_type": "display_data"
    }
   ],
   "source": [
    "%run mindreader_code.ipynb"
   ]
  },
  {
   "cell_type": "code",
   "execution_count": null,
   "id": "0ecc5f28",
   "metadata": {},
   "outputs": [],
   "source": []
  }
 ],
 "metadata": {
  "kernelspec": {
   "display_name": "Python 3 (ipykernel)",
   "language": "python",
   "name": "python3"
  },
  "language_info": {
   "codemirror_mode": {
    "name": "ipython",
    "version": 3
   },
   "file_extension": ".py",
   "mimetype": "text/x-python",
   "name": "python",
   "nbconvert_exporter": "python",
   "pygments_lexer": "ipython3",
   "version": "3.9.7"
  }
 },
 "nbformat": 4,
 "nbformat_minor": 5
}
