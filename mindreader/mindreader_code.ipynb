{
 "cells": [
  {
   "cell_type": "code",
   "execution_count": null,
   "id": "5b362120",
   "metadata": {},
   "outputs": [],
   "source": [
    "# import packages\n",
    "from ipywidgets import *\n",
    "import numpy as np"
   ]
  },
  {
   "cell_type": "code",
   "execution_count": null,
   "id": "27697c46",
   "metadata": {},
   "outputs": [],
   "source": [
    "# Create the two buttons\n",
    "btn_zero = Button(description='0')\n",
    "btn_one = Button(description='1')\n",
    "\n",
    "# Put the two buttons in side-by-side in an HBox\n",
    "btns = HBox([btn_zero, btn_one])\n",
    "\n",
    "# This will display the buttons\n"
   ]
  },
  {
   "cell_type": "code",
   "execution_count": null,
   "id": "61670e58",
   "metadata": {},
   "outputs": [],
   "source": [
    "# Define a function that reacts to user clicking 0\n",
    "def click_zero(b):\n",
    "    # Call the update_game function \n",
    "    update_game(0)\n",
    "\n",
    "# When user clicks 0 button, call function click_zero\n",
    "btn_zero.on_click(click_zero)"
   ]
  },
  {
   "cell_type": "code",
   "execution_count": null,
   "id": "6ac0b53f",
   "metadata": {},
   "outputs": [],
   "source": [
    "# Define a function that reacts to user clicking 1\n",
    "def click_one(b):\n",
    "\n",
    "    \n",
    "# When user clicks 1 button, call function click_one\n"
   ]
  },
  {
   "cell_type": "code",
   "execution_count": null,
   "id": "6e7adfe0",
   "metadata": {},
   "outputs": [],
   "source": [
    "# Create the scoreboard\n",
    "user_score = IntProgress(value=0, min=0, max=7, description='You:',\n",
    "                        bar_style='success')\n",
    "bot_score = IntProgress(value=0, min=0, max=7, description='Bot:',\n",
    "                       bar_style='danger')\n",
    "scoreboard = VBox([user_score, bot_score])\n"
   ]
  },
  {
   "cell_type": "code",
   "execution_count": null,
   "id": "d5018305",
   "metadata": {},
   "outputs": [],
   "source": [
    "# Create the final message\n",
    "final_msg = HTML(\"<h1 style='color:green'>You Win!</h1>\")\n",
    "\n",
    "# To see what it looks like:\n",
    "#final_msg"
   ]
  },
  {
   "cell_type": "code",
   "execution_count": null,
   "id": "f87cef45",
   "metadata": {},
   "outputs": [],
   "source": [
    "# Create the game box\n",
    "game_box = VBox([HBox([scoreboard, final_msg]),\n",
    "                btns])\n",
    "# Hide the final message until the game is over\n",
    "final_msg.layout.visibility = 'hidden'\n",
    "\n",
    "# display the game box\n"
   ]
  },
  {
   "cell_type": "code",
   "execution_count": null,
   "id": "928e9c6d",
   "metadata": {},
   "outputs": [],
   "source": [
    "# Create a list named user_history\n",
    "# This will hold the choices the user makes\n",
    "# The bot will then use the data to make a guess\n",
    "user_history = []"
   ]
  },
  {
   "cell_type": "code",
   "execution_count": null,
   "id": "3d59e7ff",
   "metadata": {},
   "outputs": [],
   "source": [
    "# This is the main area where the game gets updated\n",
    "def update_game(user_choice):\n",
    "    # Append the user's choice to the history\n",
    "    user_history.append(user_choice)\n",
    "    \n",
    "    # Calculate the probability of the user picking 1\n",
    "    prob = sum(user_history) / len(user_history)\n",
    "    \n",
    "    # Use the binomial distribution to have bot pick \n",
    "    comp_choice = np.random.binomial(1, prob, 1)[0]\n",
    "    \n",
    "    # if bot picked same as you, it gets a point\n",
    "    if comp_choice == user_choice:\n",
    "        bot_score.value += 1\n",
    "    else:\n",
    "        user_score.value += 1\n",
    "        \n",
    "    # This will be the end of the game\n",
    "    if user_score.value == 7 or bot_score.value == 7:\n",
    "        # Change the message if the bot wins\n",
    "        if bot_score.value == 7:\n",
    "            final_msg.value = \"<h1 style='color:red'> You Lose!</h1>\"\n",
    "        \n",
    "        # Make the final message visible\n",
    "        final_msg.layout.visibility = 'visible'\n",
    "        \n",
    "        # No more clicking of buttons\n",
    "        btn_zero.disabled = True\n",
    "        btn_one.disabled = True\n",
    "        \n",
    "    return"
   ]
  },
  {
   "cell_type": "code",
   "execution_count": null,
   "id": "e26cc6ac",
   "metadata": {},
   "outputs": [],
   "source": [
    "display(game_box)"
   ]
  },
  {
   "cell_type": "code",
   "execution_count": null,
   "id": "3ab5b36f",
   "metadata": {},
   "outputs": [],
   "source": []
  }
 ],
 "metadata": {
  "kernelspec": {
   "display_name": "Python 3 (ipykernel)",
   "language": "python",
   "name": "python3"
  },
  "language_info": {
   "codemirror_mode": {
    "name": "ipython",
    "version": 3
   },
   "file_extension": ".py",
   "mimetype": "text/x-python",
   "name": "python",
   "nbconvert_exporter": "python",
   "pygments_lexer": "ipython3",
   "version": "3.8.8"
  }
 },
 "nbformat": 4,
 "nbformat_minor": 5
}
