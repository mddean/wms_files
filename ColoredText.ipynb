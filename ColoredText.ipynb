{
 "cells": [
  {
   "cell_type": "code",
   "execution_count": 5,
   "id": "eb6e4788",
   "metadata": {},
   "outputs": [
    {
     "name": "stdout",
     "output_type": "stream",
     "text": [
      "\u001b[44mPython Project\u001b[0m\n",
      "\u001b[2mPython Project\u001b[0m\n",
      "\u001b[5mPython Project\u001b[0m\n",
      "\u001b[6mPython Project\u001b[0m\n"
     ]
    }
   ],
   "source": [
    "#Source:  https://bit.ly/2WBq9Jv\n",
    "def ansi_color(n,s):\n",
    "\tcode={\"bold\":1,\"faint\":2,\"italic\":3,\"underline\":4,\"blink_slow\":5,\"blink_fast\":6,\"negative\":7,\"conceal\":8,\"strike_th\":9,\n",
    "\t\"black\":30,\"red\":31,\"green\":32,\"yellow\":33,\"blue\":34,\"magenda\":35,\"cyan\":36,\"white\":37,\n",
    "\t\"b_black\":40,\"b_red\":41,\"b_green\":42,\"b_yellow\":43,\"b_blue\":44,\"b_magenda\":45,\"b_cyan\":46,\"b_white\":47,}\n",
    "\ttry:\n",
    "\t\tnum=str(code[n])\n",
    "\t\tvalue=\"\\033[\"+num+\"m\"+s+\"\\033[0m\"\n",
    "\t\treturn value\n",
    "\texcept:\n",
    "\t\tpass\n",
    "def list_code():\n",
    "\tcode={\"bold\":1,\"faint\":2,\"italic\":3,\"underline\":4,\"blink_slow\":5,\"blink_fast\":6,\"negative\":7,\"conceal\":8,\"strike_th\":9,\n",
    "\t\"black\":30,\"red\":31,\"green\":32,\"yellow\":33,\"blue\":34,\"magenda\":35,\"cyan\":36,\"white\":37,\n",
    "\t\"b_black\":40,\"b_red\":41,\"b_green\":42,\"b_yellow\":43,\"b_blue\":44,\"b_magenda\":45,\"b_cyan\":46,\"b_white\":47,}\n",
    "\tfor i,j in code.items():\n",
    "\t\tprint (str(j)+\"\\t\"+i)\n",
    "\n",
    "print (ansi_color('b_blue',\"Python Project\"))\n",
    "print (ansi_color('faint',\"Python Project\"))\n",
    "print (ansi_color('blink_slow',\"Python Project\"))\n",
    "print (ansi_color('blink_fast',\"Python Project\"))"
   ]
  },
  {
   "cell_type": "code",
   "execution_count": null,
   "id": "a7cfc8a1",
   "metadata": {},
   "outputs": [],
   "source": []
  }
 ],
 "metadata": {
  "kernelspec": {
   "display_name": "Python 3 (ipykernel)",
   "language": "python",
   "name": "python3"
  },
  "language_info": {
   "codemirror_mode": {
    "name": "ipython",
    "version": 3
   },
   "file_extension": ".py",
   "mimetype": "text/x-python",
   "name": "python",
   "nbconvert_exporter": "python",
   "pygments_lexer": "ipython3",
   "version": "3.9.9"
  }
 },
 "nbformat": 4,
 "nbformat_minor": 5
}
