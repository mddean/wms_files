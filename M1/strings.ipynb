{
 "cells": [
  {
   "cell_type": "markdown",
   "metadata": {},
   "source": [
    "# A Deeper Look at Strings\n",
    "<hr style=\"border:1px solid gray\">"
   ]
  },
  {
   "cell_type": "markdown",
   "metadata": {
    "tags": []
   },
   "source": [
    "We have seen the data type `str` for strings which is technically called a *text sequence type*. First, we will revisit the `str` data type. Then, we will explore strings in a bit more detail. \n",
    "\n",
    "<hr style=\"border:1px solid gray\">\n",
    "\n",
    "## Strings - the `str` data type\n",
    "\n",
    "The `str` data type is a special sequence type - a *text* sequence type. Recall that we create strings by providing a sequence of zero or more characters enclosed in either a pair of single quote characters, `'`, or a pair of double quote characters, `\"`."
   ]
  },
  {
   "cell_type": "code",
   "execution_count": null,
   "metadata": {},
   "outputs": [],
   "source": [
    "# Create string1, print it and its type\n",
    "string1 = 'My name is Mateo.'\n",
    "print('string1 =', string1)\n",
    "print('   type =', type(string1))"
   ]
  },
  {
   "cell_type": "code",
   "execution_count": null,
   "metadata": {},
   "outputs": [],
   "source": [
    "# Create string2, print it and its type\n",
    "string2 = 'Hello, my name is Mateo!'\n",
    "print('string2 =', string2)\n",
    "print('   type =', type(string2))"
   ]
  },
  {
   "cell_type": "code",
   "execution_count": null,
   "metadata": {},
   "outputs": [],
   "source": [
    "# Create the string user_name\n",
    "user_name = 'Mateo'"
   ]
  },
  {
   "cell_type": "code",
   "execution_count": null,
   "metadata": {},
   "outputs": [],
   "source": [
    "# Check to see if user_name is in string1 or string2\n",
    "user_name in string1 "
   ]
  },
  {
   "cell_type": "code",
   "execution_count": null,
   "metadata": {},
   "outputs": [],
   "source": [
    "user_name in string2"
   ]
  },
  {
   "cell_type": "markdown",
   "metadata": {},
   "source": [
    "## Strings are Immutable\n",
    "\n",
    "Unlike a `list`, strings are immutable. In this sense, they are similar to a `tuple`. Let's try changing a string and see what happens."
   ]
  },
  {
   "cell_type": "code",
   "execution_count": null,
   "metadata": {},
   "outputs": [],
   "source": [
    "# Try to change first letter of user_name\n",
    "print('first letter of user_name is', user_name[0])"
   ]
  },
  {
   "cell_type": "code",
   "execution_count": null,
   "metadata": {},
   "outputs": [],
   "source": [
    "# Now try to change it\n",
    "user_name[0] = 'K'"
   ]
  },
  {
   "cell_type": "markdown",
   "metadata": {},
   "source": [
    "## Special Characters\n",
    "\n",
    "Strings can also contain special characters. For example, a newline is represented as `\\n`, a tab as `\\t`, and a backspace as `\\b`. Let's try them."
   ]
  },
  {
   "cell_type": "code",
   "execution_count": null,
   "metadata": {},
   "outputs": [],
   "source": [
    "# Try tab \\t in the middle of string\n",
    "print('Here is some\\ttext with two\\ttabs in it.')"
   ]
  },
  {
   "cell_type": "code",
   "execution_count": null,
   "metadata": {},
   "outputs": [],
   "source": [
    "# Try newline \\n\n",
    "print('Here is some\\ntext with two\\nnewlines in it.')"
   ]
  },
  {
   "cell_type": "code",
   "execution_count": null,
   "metadata": {},
   "outputs": [],
   "source": [
    "# What about the backspace \\b\n",
    "# What do you think will printed\n",
    "print('54\\b65')"
   ]
  },
  {
   "cell_type": "markdown",
   "metadata": {
    "tags": []
   },
   "source": [
    "## Raw and Formatted String Literals\n",
    "\n",
    "As we saw above, we can include newline and tab characters within a string by using `\\n` and `\\t`, respectively. If you want to have the characters `\\n` show up in the string instead of being replaced with a newline, then you have two options:\n",
    "\n",
    "1. Escape it by adding an additional backslash: `\\\\n`.\n",
    "2. Make the string a **raw string literal** by preceding the opening quotation mark with the letter `r`. "
   ]
  },
  {
   "cell_type": "code",
   "execution_count": null,
   "metadata": {},
   "outputs": [],
   "source": [
    "# Create a string with a new line character in it\n",
    "s1 = 'String over \\n two lines?'\n",
    "print(s1)"
   ]
  },
  {
   "cell_type": "code",
   "execution_count": null,
   "metadata": {},
   "outputs": [],
   "source": [
    "# Create a string with escaped new line character\n",
    "s2 = 'String over \\\\n two lines?'\n",
    "print(s2)"
   ]
  },
  {
   "cell_type": "code",
   "execution_count": null,
   "metadata": {},
   "outputs": [],
   "source": [
    "# Create a raw literal string\n",
    "s3 = r'String over \\n two lines?'\n",
    "print(s3)"
   ]
  },
  {
   "cell_type": "markdown",
   "metadata": {},
   "source": [
    "### Raw String Literals\n",
    "In addition to using raw literal strings as shown above, you will often encounter them when using **regular expressions** in text analysis projects."
   ]
  },
  {
   "cell_type": "markdown",
   "metadata": {},
   "source": [
    "### Formatted String Literals\n",
    "\n",
    "To help with formatting when printing out strings, Python provides the concept of *formatted string literals*, also called f-strings. You can include the value of Python expressions inside a string by prefixing the string with an `f` or `F` and writing expressions as `{expression}`. We have already seen examples of this concept."
   ]
  },
  {
   "cell_type": "code",
   "execution_count": null,
   "metadata": {},
   "outputs": [],
   "source": [
    "# Create an f-string\n",
    "my_var = 3*3\n",
    "my_fstring = f'The value of my_var is {my_var}'\n",
    "print(my_fstring)"
   ]
  },
  {
   "cell_type": "code",
   "execution_count": null,
   "metadata": {},
   "outputs": [],
   "source": [
    "my_fstring2 = f'The value of my_var with some formatting is {my_var:0.2f}'\n",
    "print(my_fstring2)"
   ]
  },
  {
   "cell_type": "markdown",
   "metadata": {},
   "source": [
    "### Concatenating Strings"
   ]
  },
  {
   "cell_type": "code",
   "execution_count": null,
   "metadata": {},
   "outputs": [],
   "source": [
    "# Concatenate two strings together\n",
    "# The + operator is \"overloaded\", so it works on strings in addition to numbers\n",
    "string1 + string2"
   ]
  },
  {
   "cell_type": "markdown",
   "metadata": {},
   "source": [
    "### Repeating Strings"
   ]
  },
  {
   "cell_type": "code",
   "execution_count": null,
   "metadata": {},
   "outputs": [],
   "source": [
    "# Repeating strings\n",
    "# The * operator is also overloaded, allowing it work on strings\n",
    "string2 * 4"
   ]
  },
  {
   "cell_type": "markdown",
   "metadata": {},
   "source": [
    "### Other Useful String Functions and Methods\n",
    "\n",
    "Let's explore a few of the most commonly used string manipulations that we will use.\n",
    "\n",
    "### Length of Strings"
   ]
  },
  {
   "cell_type": "code",
   "execution_count": null,
   "metadata": {},
   "outputs": [],
   "source": [
    "# How long is a string?\n",
    "# Use the len() function\n",
    "print('length of string1 =', len(string1))\n",
    "print('length of string2 =', len(string2))"
   ]
  },
  {
   "cell_type": "markdown",
   "metadata": {},
   "source": [
    "### Changing the Case of Strings"
   ]
  },
  {
   "cell_type": "code",
   "execution_count": null,
   "metadata": {},
   "outputs": [],
   "source": [
    "# What if we want to convert everything to lower case or upper case\n",
    "# Convert string1 to lower\n",
    "print(string1.lower())"
   ]
  },
  {
   "cell_type": "code",
   "execution_count": null,
   "metadata": {},
   "outputs": [],
   "source": [
    "# Convert string1 to upper\n",
    "print(string1.upper())"
   ]
  },
  {
   "cell_type": "code",
   "execution_count": null,
   "metadata": {},
   "outputs": [],
   "source": [
    "## NOTE: Neither one of these modify the original string1. Instead they return a new string.\n",
    "print(string1)"
   ]
  },
  {
   "cell_type": "markdown",
   "metadata": {},
   "source": [
    "<hr style=\"border:1px solid gray\">\n",
    "\n",
    "<font color='red' size = '5'> Student Exercise </font>\n",
    "\n",
    "Complete the following tasks in the empty **Code** cells below.\n",
    "\n",
    "1. Convert `string2` to lower case and print it out.\n",
    "2. Convert `string2` to upper case and print it out.\n",
    "3. If you repeat `string1` twice, repeat `string2` three times, and combine them, how many characters are in that string?\n",
    "\n",
    "<hr style=\"border:1px solid gray\">"
   ]
  },
  {
   "cell_type": "code",
   "execution_count": null,
   "metadata": {},
   "outputs": [],
   "source": [
    "# 1. Convert `string2` to lower case and print it out.\n"
   ]
  },
  {
   "cell_type": "code",
   "execution_count": null,
   "metadata": {},
   "outputs": [],
   "source": [
    "# 2. Convert `string2` to upper case and print it out.\n"
   ]
  },
  {
   "cell_type": "code",
   "execution_count": null,
   "metadata": {},
   "outputs": [],
   "source": [
    "# 3. If you repeat `string1` twice, repeat `string2` three times,\n",
    "#    and combine them, how many characters are in that string?\n"
   ]
  },
  {
   "cell_type": "markdown",
   "metadata": {},
   "source": [
    "<hr style=\"border:1px solid gray\">\n",
    "\n",
    "## Cleaning Strings\n",
    "\n",
    "A common need when cleaning text data is to remove white space from the **beginning and end** of strings. We can use the `strip` method to accomplish this. White space includes space, tab, and newline characters."
   ]
  },
  {
   "cell_type": "code",
   "execution_count": null,
   "metadata": {},
   "outputs": [],
   "source": [
    "# Create a string with spaces at beginning and end\n",
    "badString = '     Spaces at the beginning and end.     '\n",
    "print('before:|', badString, '|', sep='')\n",
    "print('after :|', badString.strip(), '|', sep='')"
   ]
  },
  {
   "cell_type": "code",
   "execution_count": null,
   "metadata": {},
   "outputs": [],
   "source": [
    "# Create a string with spaces at beginning and end\n",
    "# Add newline and tab characters and spaces in middle\n",
    "# Will strip work?\n",
    "badString2 = '''     Spaces at the beginning and end.     Now let's try newline \\n and\n",
    "    even a tab \\t or \\t two to see what happens.\\n'''\n",
    "print('before:|', badString2, '|', sep='')\n",
    "print()\n",
    "print('after :|', badString2.strip(), '|', sep='')"
   ]
  },
  {
   "cell_type": "markdown",
   "metadata": {},
   "source": [
    "Well, that did not work. Hence, `strip()` only works for beginning and ending whitespace, even the newline character as we just saw. Luckily for us, there is another useful function that will help out. We will use `split()` to remove spaces, tabs, and newlines in a string. Splitting the string puts the words into a `list` (remember `list`s?). We can reconstruct the string with just spaces by using the `join()` method. Let's try it.\n"
   ]
  },
  {
   "cell_type": "code",
   "execution_count": null,
   "metadata": {},
   "outputs": [],
   "source": [
    "# Split it and look at the list\n",
    "badStringList = badString2.split()\n",
    "print(badStringList)"
   ]
  },
  {
   "cell_type": "code",
   "execution_count": null,
   "metadata": {},
   "outputs": [],
   "source": [
    "# Now, reconstruct with join\n",
    "goodString = ' '.join(badStringList)\n",
    "print(goodString)"
   ]
  },
  {
   "cell_type": "markdown",
   "metadata": {},
   "source": [
    "Similar to `strip`, there are also `lstrip` and `rstrip` that strip off whitespace on at the beginning (the left) and the end (right), respectively. "
   ]
  },
  {
   "cell_type": "markdown",
   "metadata": {},
   "source": [
    "<hr style=\"border:1px solid gray\">\n",
    "\n",
    "<font color='red' size = '5'> Student Exercise </font>\n",
    "\n",
    "In the **Code** cell below is a string variable named `badString3` containing \"extra\" whitespace at both the beginning and end (but not in the middle).\n",
    "\n",
    "Complete the following tasks in the empty **Code** cells below the cell that contains `badString3`. Be sure to run that cell of code before trying your own code.\n",
    "\n",
    "1. Strip all the whitespace from the beginning of `badString3`.\n",
    "2. Strip all the whitespace from the end of `badString3`.\n",
    "3. Strip all the whitespace from the beginning and end of `badString3`.\n",
    "\n",
    "<hr style=\"border:1px solid gray\">"
   ]
  },
  {
   "cell_type": "code",
   "execution_count": null,
   "metadata": {},
   "outputs": [],
   "source": [
    "# String with whitespace at beginning and end\n",
    "badString3 = '\\t   \\t\\n\\t\\tWhat a fun string!  \\t\\t\\t\\n\\r\\f'\n",
    "badString3"
   ]
  },
  {
   "cell_type": "code",
   "execution_count": null,
   "metadata": {},
   "outputs": [],
   "source": [
    "# 1. Strip all the whitespace from the beginning of `badString3`\n"
   ]
  },
  {
   "cell_type": "code",
   "execution_count": null,
   "metadata": {},
   "outputs": [],
   "source": [
    "# 2. Strip all the whitespace from the end of `badString3`\n"
   ]
  },
  {
   "cell_type": "code",
   "execution_count": null,
   "metadata": {},
   "outputs": [],
   "source": [
    "# Strip all the whitespace from the beginning and end of `badString3`\n"
   ]
  },
  {
   "cell_type": "markdown",
   "metadata": {},
   "source": [
    "<hr style=\"border:1px solid gray\">\n",
    "\n",
    "## Searching for Substrings\n",
    "\n",
    "We may also want to find substrings within a string. There are various methods for this task similar to the `in` operator we saw earlier. We will look at `startswith`, `endswith`, `find`, and `replace`. The methods `startswith` and `endswith` do exactly what they say: they will return a boolean indicating if the string starts or ends with the specified substring. The `find` method searches for a substring within a string. If it is found, the *index* of the first occurrence is returned. If the substring is not found it returns -1.  You can use `replace` to replace one substring with another within a string. By default it replaces *all* occurrences of the substring. An optional *count* argument allows you to specify the number of replacements."
   ]
  },
  {
   "cell_type": "code",
   "execution_count": null,
   "metadata": {},
   "outputs": [],
   "source": [
    "# Create a string\n",
    "string3 = 'I think text analysis is fun because text is where the hidden messages are.'"
   ]
  },
  {
   "cell_type": "code",
   "execution_count": null,
   "metadata": {},
   "outputs": [],
   "source": [
    "# Does string3 start with 'I'?\n",
    "print(string3.startswith('I'))"
   ]
  },
  {
   "cell_type": "code",
   "execution_count": null,
   "metadata": {},
   "outputs": [],
   "source": [
    "# What about case? Test with 'i'\n",
    "print(string3.startswith('i'))"
   ]
  },
  {
   "cell_type": "code",
   "execution_count": null,
   "metadata": {},
   "outputs": [],
   "source": [
    "# Does string3 end with 'text'?\n",
    "print(string3.endswith('text'))"
   ]
  },
  {
   "cell_type": "code",
   "execution_count": null,
   "metadata": {},
   "outputs": [],
   "source": [
    "# Where does the first occurrence of 'text' occur in string3?\n",
    "string3.find('text')"
   ]
  },
  {
   "cell_type": "code",
   "execution_count": null,
   "metadata": {},
   "outputs": [],
   "source": [
    "# Can we pull out the word text where it first occurs?\n",
    "print(string3[string3.find('text'):string3.find('text')+4])"
   ]
  },
  {
   "cell_type": "code",
   "execution_count": null,
   "metadata": {},
   "outputs": [],
   "source": [
    "# Replace the word \"text\" with \"TEXT\" for all occurrences\n",
    "print(string3.replace('text', 'TEXT'))"
   ]
  },
  {
   "cell_type": "code",
   "execution_count": null,
   "metadata": {},
   "outputs": [],
   "source": [
    "# Replace \"text\" with \"TEXT\" once - just the first occurrence\n",
    "print(string3.replace('text', 'TEXT', 1))"
   ]
  },
  {
   "cell_type": "code",
   "execution_count": null,
   "metadata": {},
   "outputs": [],
   "source": [
    "# The function replace() does not change the original string\n",
    "print(string3)"
   ]
  },
  {
   "cell_type": "markdown",
   "metadata": {},
   "source": [
    "### Counting Substrings\n",
    "\n",
    "You may also want to count the number of occurrences of a substring within in a string. You can use the `count` method.\n",
    "\n",
    "*Thought Excercise:* Are there any other ways to accomplish the same task?"
   ]
  },
  {
   "cell_type": "code",
   "execution_count": null,
   "metadata": {},
   "outputs": [],
   "source": [
    "# How many times does \"text\" show up in string3?\n",
    "# We are going to convert everything to lower case and then count\n",
    "string3.lower().count(\"text\")"
   ]
  },
  {
   "cell_type": "markdown",
   "metadata": {},
   "source": [
    "<hr style=\"border:1px solid gray\">\n",
    "\n",
    "<font color='red' size = '5'> Student Exercise </font>\n",
    "\n",
    "In the **Code** cell below is a long string variable named `overview`. It contains language from a less-than-truckload freight carrier's website.\n",
    "\n",
    "Complete the following tasks in the empty **Code** cells below the cell that contains `overview`. Be sure to run that cell of code before trying your own code.\n",
    "\n",
    "1. Convert the string to lower case, storing it in the variable `overview_lower`, and print it out.\n",
    "2. Convert the string to upper case, storing it in the variable `overview_upper`, and print it out.\n",
    "3. Count the number of characters in `overview` and print it out.\n",
    "4. Count the number of times the substring \"ltl\" occurs.\n",
    "5. Count the number of times the substring \"we\" occurs.\n",
    "6. Count the number of times the **word** \"we\" occurs. Will this be different than what you found above? Why or why not?\n",
    "7. How many words are in are in `overview_lower`?\n",
    "8. What is the most commonly occurring word in `overview_lower`?\n",
    "\n",
    "<hr style=\"border:1px solid gray\">"
   ]
  },
  {
   "cell_type": "code",
   "execution_count": null,
   "metadata": {},
   "outputs": [],
   "source": [
    "overview = '''Overview\n",
    "\n",
    "We are one of the largest regional North American less-than-truckload (“LTL”) motor carriers. \\\n",
    "We provide regional LTL services through a single integrated, union-free organization. \\\n",
    "Our service offerings, which include expedited transportation, are provided through an \\\n",
    "expansive network of service centers stretching from the northeast to the southeast. \\\n",
    "In addition to our core LTL services, we offer a range of value-added services including \\\n",
    "container drayage, truckload brokerage and supply chain consulting. More than 98% of our \\\n",
    "revenue has historically been derived from transporting LTL shipments for our customers, \\\n",
    "whose demand for our services is generally tied to industrial production and the overall \\\n",
    "health of the U.S. domestic economy.\n",
    "\n",
    "We have increased our revenue and customer base over the past ten years primarily through \\\n",
    "organic market share growth. Our infrastructure allows us to provide next-day and second-day \\\n",
    "service throughout the east coast of the continental United States. We believe the growth in \\\n",
    "demand for our services can be attributed to our ability to consistently provide a superior \\\n",
    "level of customer service at a fair price, which allows our customers to meet their supply \\\n",
    "chain needs. Our integrated structure allows us to offer our customers consistent, \\\n",
    "high-quality service from origin to destination, and we believe our operating structure and \\\n",
    "proprietary information systems enable us to efficiently manage our operating costs. Our \\\n",
    "services are complemented by our technological capabilities, which we believe improve the \\\n",
    "efficiency of our operations while also empowering our customers to manage their individual \\\n",
    "shipping needs.\n",
    "\n",
    "We were founded and incorporated in Pennsylvania in 1975. Our principal executive offices \\\n",
    "are located at 1 North Bell Avenue, Carnegie, Pennsylvania 15106.\n",
    "\n",
    "Our Industry\n",
    "\n",
    "Trucking companies provide transportation services to virtually every industry operating in \\\n",
    "the United States and generally offer higher levels of reliability and faster transit times \\\n",
    "than other surface transportation options. The trucking industry is comprised principally of \\\n",
    "two types of motor carriers: LTL and truckload. LTL freight carriers typically pick up multiple \\\n",
    "shipments from multiple customers on a single truck. The LTL freight is then routed through a \\\n",
    "network of service centers where the freight may be transferred to other trucks with similar \\\n",
    "destinations. LTL motor carriers generally require a more expansive network of local pickup and \\\n",
    "delivery (“P&D”) service centers, as well as larger breakbulk, or hub, facilities. In contrast, \\\n",
    "truckload carriers generally dedicate an entire truck to one customer from origin to destination.\n",
    "\n",
    "Significant capital is required to create and maintain a network of service centers and a fleet \\\n",
    "of tractors and trailers. The high fixed costs and capital spending requirements for LTL motor \\\n",
    "carriers make it difficult for new start-up or small operators to effectively compete with \\\n",
    "established carriers. In addition, successful LTL motor carriers generally employ, and regularly \\\n",
    "update, a high level of technology-based systems and processes that provide information to \\\n",
    "customers and help reduce operating costs.\n",
    "\n",
    "The American Trucking Associations reported total transportation revenue in the United States \\\n",
    "of $911.2 billion in 2020, which included approximately $41.1 billion for the LTL industry based \\\n",
    "on information reported in Transport Topics. The LTL industry is highly competitive on the basis \\\n",
    "of service and price and has consolidated significantly since the industry was deregulated in 1980. \\\n",
    "The largest 5 and 10 LTL motor carriers accounted for approximately 58% and 83%, respectively, of \\\n",
    "the domestic LTL market in 2020. We believe consolidation in our industry will continue due to \\\n",
    "increased customer demand for transportation providers that can offer both regional and national \\\n",
    "service as well as other complementary value-added services.\n",
    "\n",
    "Competition\n",
    "\n",
    "The transportation and logistics industry is intensely competitive and highly fragmented. We \\\n",
    "compete with regional, inter-regional and national LTL carriers and, to a lesser extent, with \\\n",
    "truckload carriers, small package carriers, airfreight carriers and railroads. We also compete \\\n",
    "with, and provide transportation services to, third-party logistics providers that determine both \\\n",
    "the mode of transportation and the carrier. Most of our competitors may have a broader global \\\n",
    "network and a wider range of services than we do. Competition in our industry is based primarily \\\n",
    "on service, price, available capacity and business relationships. We believe we are able to gain \\\n",
    "market share by expanding our capacity in the United States and providing high-quality service at \\\n",
    "a fair price.\n",
    "\n",
    "Throughout our organization, we continuously seek to improve customer service by, among other \\\n",
    "things, maximizing on-time performance and minimizing cargo claims. We believe our transit times \\\n",
    "are generally faster and more reliable than those of our competitors, in part because of our more \\\n",
    "efficient service center network, use of team drivers and proprietary technology. \n",
    "\n",
    "We utilize flexible scheduling and train our employees to perform multiple tasks, which we \\\n",
    "believe allows us to achieve greater productivity and higher levels of customer service than \\\n",
    "our competitors. We believe our focus on employee communication, continued education, \\\n",
    "development and motivation strengthens the relationships and trust among our employees.'''"
   ]
  },
  {
   "cell_type": "code",
   "execution_count": null,
   "metadata": {},
   "outputs": [],
   "source": [
    "# 1. Convert the string to lower case, storing it in the variable `overview_lower`, and print it out.\n"
   ]
  },
  {
   "cell_type": "code",
   "execution_count": null,
   "metadata": {},
   "outputs": [],
   "source": [
    "# 2. Convert the string to upper case, storing it in the variable `overview_upper`, and print it out.\n"
   ]
  },
  {
   "cell_type": "code",
   "execution_count": null,
   "metadata": {},
   "outputs": [],
   "source": [
    "# 3. Count the number of characters in `overview` and print it out.\n"
   ]
  },
  {
   "cell_type": "code",
   "execution_count": null,
   "metadata": {},
   "outputs": [],
   "source": [
    "# 4. Count the number of times the substring \"ltl\" occurs\n"
   ]
  },
  {
   "cell_type": "code",
   "execution_count": null,
   "metadata": {},
   "outputs": [],
   "source": [
    "# 5. Count the number of times the substring \"we\" occurs.\n"
   ]
  },
  {
   "cell_type": "code",
   "execution_count": null,
   "metadata": {},
   "outputs": [],
   "source": [
    "# 6. Count the number of times the **word** \"we\" occurs.\n",
    "# Will this be different than what you found above? Why or why not?\n"
   ]
  },
  {
   "cell_type": "code",
   "execution_count": null,
   "metadata": {},
   "outputs": [],
   "source": [
    "# 7. How many words are in are in `overview_lower`?\n"
   ]
  },
  {
   "cell_type": "code",
   "execution_count": null,
   "metadata": {},
   "outputs": [],
   "source": [
    "# 8. What is the most commonly occurring word in `overview_lower`?"
   ]
  },
  {
   "cell_type": "markdown",
   "metadata": {},
   "source": [
    "## Ancillary Information\n",
    "\n",
    "The following links point you to additional resources that you might find helpful in learning this material. \n",
    "\n",
    "1. The official Python tutorial about [formatting strings][1].\n",
    "2. A nice post about [f-strings][2].\n",
    "\n",
    "\n",
    "\n",
    "-----\n",
    "\n",
    "[1]: https://docs.python.org/3/tutorial/inputoutput.html\n",
    "[2]: https://realpython.com/python-f-strings/"
   ]
  },
  {
   "cell_type": "markdown",
   "metadata": {
    "deletable": false,
    "editable": false,
    "tags": []
   },
   "source": [
    "**&copy; 2022 - Present: Matthew D. Dean, Ph.D.   \n",
    "Clinical Associate Professor of Business Analytics at William \\& Mary.**"
   ]
  }
 ],
 "metadata": {
  "kernelspec": {
   "display_name": "Python 3 (ipykernel)",
   "language": "python",
   "name": "python3"
  },
  "language_info": {
   "codemirror_mode": {
    "name": "ipython",
    "version": 3
   },
   "file_extension": ".py",
   "mimetype": "text/x-python",
   "name": "python",
   "nbconvert_exporter": "python",
   "pygments_lexer": "ipython3",
   "version": "3.8.8"
  }
 },
 "nbformat": 4,
 "nbformat_minor": 4
}
