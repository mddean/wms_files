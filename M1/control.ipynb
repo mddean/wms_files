{
 "cells": [
  {
   "cell_type": "markdown",
   "metadata": {},
   "source": [
    "# Control Flow\n",
    "\n",
    "-----"
   ]
  },
  {
   "cell_type": "markdown",
   "metadata": {},
   "source": [
    "## Algorithms, Flowcharts, and Pseudocode\n",
    "\n",
    "Broadly speaking, an **algorithm** is a step-by-step procedure for solving a problem or accomplishing a task. The analysis and study of algorithms is an important subject in computer science, mathematics, and operations research. While we won't be deeply analyzing algorithms, understanding the basics of algorithms and how to represent them both visually and with pseudocode will help you as you develop more complex Python programs. \n",
    "\n",
    "### Representing Algorithms with Flowcharts\n",
    "\n",
    "You have probably seen and/or used a flowchart before. Within a computer programming context, flowcharts allow you to visually describe the steps of an algorithm. The visual aid can be very useful to help explain the process to the various stakeholders within a data analysis project. \n",
    "\n",
    "When creating a flowchart, the flow often goes from the top of the page to bottom or from the left of the page to the right. Larger flowcharts might flow from the left to the right and continue on down the page over multiple pages. There are numerous standard flowchart symbols. The most common ones and their meanings are shown below.\n",
    "\n",
    "![Basic Flowchart Symbols](images/basic-symbols-table.jpg)"
   ]
  },
  {
   "cell_type": "markdown",
   "metadata": {},
   "source": [
    "One of the most important steps to creating a flowchart is to carefully define the **boundaries** of the process you are modeling. Where, when, why, and how does the process begin? Who initiates the process? Similar questions need to be answered for the process end. The level of detail needed for describing the process should also be considered. Building a flowchart is often an iterative process. Start with broad steps to make sure you have defined the boundaries appropriately and captured all of the important aspects. Then continue to refine the flowchart, adding detail to the various steps. Including the stakeholders/business owners of the data analysis project at the flowchart phase and throughout the entire project will help ensure the project will be successful. \n",
    "\n",
    "After creating a flowhcart, writing pseudocode to add detail to the process helps as you begin to implement the process using Python code. **Pseudocode** can be thought of as a plain language description of the steps of an algorithm. While no broad standard for pseudocode syntax exists, you will see commonality among examples. In all cases pseudocode resembles skeleton programs to help break the \"messy problem\" into manageable chunks. The skeleton serves as a starting point to writing code.\n"
   ]
  },
  {
   "cell_type": "markdown",
   "metadata": {},
   "source": [
    "### Example Flowchart\n",
    "\n",
    "As an example, consider orders coming in from customers to your company. Receiving an order kicks off the process that we are trying to model, which is represented by the oval at the top left. When the order comes in we first check to see if all the required information to process the order is contained in the request. This branching point is representend by a diamond, where a response of \"Yes\" goes down the flowchart and the reponse of \"No\" goes to the right. If all of the required information was entered, we check the inventory levels for all of the items in the order. This step is represented by a rectangle. The result of the check is another branching point. If sufficient inventory exists, we generate a pick list and route it appropriately. Otherwise, we generate a partial pick list, route it appropriately, and send the customer an email that their order will be partially fulfilled now. If we can only partially fulfill the order, we add the unfinished part of the order to the \"partial queue\". After generating pick lists for either the full or partial order, our modeled process ends. Returning to the check for all of the required information when the order arrives, if it does not, we send the customer an email alerting them to the deficiency and then add the order to the \"incomplete queue.\" Afterwards, we end the modeled process. \n",
    "\n",
    "Notice in this small example that we have tried to define and limit the boundaries of the process we are modeling. Once a pick list is generated and routed to the proper department, our process ends. What happens beyond that is outside of our modeled process and not shown in the flowchart. Certainly you could modify and adjust the steps within the flowchart if more or less detail is needed.\n",
    "\n",
    "![Flowchart Example](images/flowchart.png)\n"
   ]
  },
  {
   "cell_type": "markdown",
   "metadata": {},
   "source": [
    "### Converting the Flowchart into Pseudocode\n",
    "\n",
    "Once you have an \"acceptable\" flowchart of the process you are modeling you can then move on to writing pseudocode for the process. Again, there is no \"standard\" for psuedocode. You are likely to encounter many different flavors depending where you look. Our goal is to have a plain language description of the algorithm and process that can then be converted to a programming language like Python. Let's try to convert our flowchart to pseudocode.\n",
    "\n",
    ">*An order is received  \n",
    ">If all of the required information has been entered  \n",
    ">&nbsp;&nbsp;&nbsp;&nbsp;&nbsp;Check inventory for all items  \n",
    ">&nbsp;&nbsp;&nbsp;&nbsp;&nbsp;If all items are available  \n",
    ">&nbsp;&nbsp;&nbsp;&nbsp;&nbsp;&nbsp;&nbsp;&nbsp;Generate a pick list and route to the appropriate department  \n",
    ">&nbsp;&nbsp;&nbsp;&nbsp;&nbsp;&nbsp;&nbsp;&nbsp;END  \n",
    ">&nbsp;&nbsp;&nbsp;&nbsp;Else  \n",
    ">&nbsp;&nbsp;&nbsp;&nbsp;&nbsp;&nbsp;&nbsp;&nbsp;Generate a partial pick list and route  \n",
    ">&nbsp;&nbsp;&nbsp;&nbsp;&nbsp;&nbsp;&nbsp;&nbsp;Send email to customer about partial order fulfillment  \n",
    ">&nbsp;&nbsp;&nbsp;&nbsp;&nbsp;&nbsp;&nbsp;&nbsp;Add order to partial queue   \n",
    ">&nbsp;&nbsp;&nbsp;&nbsp;&nbsp;&nbsp;&nbsp;&nbsp;END  \n",
    ">Else  \n",
    ">&nbsp;&nbsp;&nbsp;&nbsp;Send email to customer about deficiency  \n",
    ">&nbsp;&nbsp;&nbsp;&nbsp;Add order to incomplete queue  \n",
    ">&nbsp;&nbsp;&nbsp;&nbsp;END*\n"
   ]
  },
  {
   "cell_type": "markdown",
   "metadata": {},
   "source": [
    "<hr style=\"border:1px solid gray\">\n",
    "\n",
    "## What Condition is Your Condition In?\n",
    "\n",
    "As noted in the flowchart and pseudocode above, there are **decision points**. These are often yes or no decisions and known as conditional statements. Conditional statements enable a program to perform different operations based on the value of a specific condition. The condition must evaluate to a Boolean value and can involve multiple comparison tests and logical operators. As a result, we first introduce Python's comparison operators (or Boolean tests) and logical operators before introducing the Python `if` statement. Then, we discuss additional control flow by utilizing loops.\n",
    "\n",
    "-----"
   ]
  },
  {
   "cell_type": "markdown",
   "metadata": {},
   "source": [
    "## Python Comparison (or Boolean) Operators\n",
    "\n",
    "Python supports the [basic comparison operators][1]. The following table summarizes the comparison operations:\n",
    "\n",
    "| Operator  | Description             | Example                    |\n",
    "| --------- | ----------------------- | -------------------------- |\n",
    "| `==` | equal | `a == b` |\n",
    "| `!=` | not equal | `a != b` |\n",
    "| `>` | strictly greater than | `a > b` |\n",
    "| `>=` | greater than or equal | `a >= b` |\n",
    "| `<` | strictly less than | `a < b` |\n",
    "| `<=` | less than or equal | `a <= b` |\n",
    "\n",
    "Typically, the data type of the values on either side of a comparison operator should be identical. If they are different, for example, different numerical types, the Python interpreter will attempt to coerce them to be of the same type. If that isn't possible, the objects being compared will never be equivalent (since they are of different, incompatible types). These operators are demonstrated in the following code cells. \n",
    "\n",
    "-----\n",
    "\n",
    "[1]: https://docs.python.org/3/library/stdtypes.html#comparisons"
   ]
  },
  {
   "cell_type": "code",
   "execution_count": null,
   "metadata": {},
   "outputs": [],
   "source": [
    "# Define several variables to demonstrate \n",
    "# comparison (Boolean) operators\n",
    "a = 5\n",
    "b = 6"
   ]
  },
  {
   "cell_type": "code",
   "execution_count": null,
   "metadata": {},
   "outputs": [],
   "source": [
    "# Equivalence operator\n",
    "a == b"
   ]
  },
  {
   "cell_type": "code",
   "execution_count": null,
   "metadata": {},
   "outputs": [],
   "source": [
    "# Not equivalence operator\n",
    "a != b"
   ]
  },
  {
   "cell_type": "code",
   "execution_count": null,
   "metadata": {},
   "outputs": [],
   "source": [
    "# Greater than operator\n",
    "a > b"
   ]
  },
  {
   "cell_type": "code",
   "execution_count": null,
   "metadata": {},
   "outputs": [],
   "source": [
    "# Less than operator\n",
    "a < b"
   ]
  },
  {
   "cell_type": "code",
   "execution_count": null,
   "metadata": {},
   "outputs": [],
   "source": [
    "# Compare different numerical data types\n",
    "c = 5.0\n",
    "print(f'a is {a} and has type {type(a)}')\n",
    "print(f'c is {c} and has type {type(c)}')\n",
    "print(f'a == c is {a == c}')"
   ]
  },
  {
   "cell_type": "code",
   "execution_count": null,
   "metadata": {},
   "outputs": [],
   "source": [
    "# Compare different data types\n",
    "a == 'Five'"
   ]
  },
  {
   "cell_type": "markdown",
   "metadata": {},
   "source": [
    "-----\n",
    "\n",
    "These operators can be used on any data types, not just integers. When comparing a more complex data type, for example, a string of characters, the equivalence tests require matching of each item in the string. This is demonstrated in the following code cell.\n",
    "\n",
    "-----"
   ]
  },
  {
   "cell_type": "code",
   "execution_count": null,
   "metadata": {},
   "outputs": [],
   "source": [
    "'William' == 'william'"
   ]
  },
  {
   "cell_type": "markdown",
   "metadata": {},
   "source": [
    "-----\n",
    "\n",
    "### Python Logical Operators\n",
    "\n",
    "In order to build more complex conditional statements, Python provides [three logical operators][1] that allow multiple comparisons to be combined. These three operators are described in the following table:\n",
    "\n",
    "\n",
    "| Operator  | Description             | Example                    |\n",
    "| --------- | ----------------------- | -------------------------- |\n",
    "| or   | **or** operator, `True` if either condition is true       | `a or b`|\n",
    "| and  | **and** operator, `True` only if both conditions are true       | `a and b`|\n",
    "| not  | **not** operator, opposite of condition       | `not a`|\n",
    "\n",
    "These operators are fairly self-explanatory, but one important issue is that the Python operator will stop evaluating a conditional statement as quickly as possible. Thus, if the first part of an `and` operation is `False` (or, conversely `True` for an `or` operation), the remaining part of the statement will not be processed since the overall result will be `False`. This approach is known as _short-circuiting_ and can produce faster code execution; however, it can easily lead to confusion if you perform function calls or variable creation in the latter parts of a conditional statement.\n",
    "\n",
    "These operators are demonstrated in the following code cells, where we first define several Boolean variables before showing how to use each operator. In general, it is recommended to use parentheses to explicitly indicate operator order. Otherwise, you must be very careful to understand and follow the rules of operator precedence.\n",
    "\n",
    "-----\n",
    "[1]: https://docs.python.org/3/library/stdtypes.html#boolean-operations-and-or-not"
   ]
  },
  {
   "cell_type": "code",
   "execution_count": null,
   "metadata": {},
   "outputs": [],
   "source": [
    "# Define 2 variables to hold Booleans\n",
    "a_equal_b = (a == b)\n",
    "a_not_equal_b = (a != b)\n",
    "\n",
    "print(f'a_equal_b is {a_equal_b}')\n",
    "print(f'a_not_equal_b is {a_not_equal_b}')"
   ]
  },
  {
   "cell_type": "code",
   "execution_count": null,
   "metadata": {},
   "outputs": [],
   "source": [
    "# Or operator\n",
    "a_equal_b or a_not_equal_b"
   ]
  },
  {
   "cell_type": "code",
   "execution_count": null,
   "metadata": {},
   "outputs": [],
   "source": [
    "# And operator\n",
    "a_equal_b and a_not_equal_b"
   ]
  },
  {
   "cell_type": "code",
   "execution_count": null,
   "metadata": {},
   "outputs": [],
   "source": [
    "# Not operator\n",
    "not a_equal_b"
   ]
  },
  {
   "cell_type": "markdown",
   "metadata": {},
   "source": [
    "We demonstrate the concept of **short circuiting** below. To aid in the examples, we first define a function called `test()` that prints a simple message and **always** returns `True`. We will cover user-defined functions soon."
   ]
  },
  {
   "cell_type": "code",
   "execution_count": null,
   "metadata": {},
   "outputs": [],
   "source": [
    "# Demonstrate short-circuiting\n",
    "\n",
    "# Define function to print message and return Boolean\n",
    "def test():\n",
    "    print('Hello')\n",
    "    return True\n"
   ]
  },
  {
   "cell_type": "code",
   "execution_count": null,
   "metadata": {},
   "outputs": [],
   "source": [
    "# Call the user-defined function to see what it does\n",
    "test()"
   ]
  },
  {
   "cell_type": "code",
   "execution_count": null,
   "metadata": {},
   "outputs": [],
   "source": [
    "# Function is never called since a_equal_b is False\n",
    "a_equal_b and test()"
   ]
  },
  {
   "cell_type": "code",
   "execution_count": null,
   "metadata": {},
   "outputs": [],
   "source": [
    "# What happens if you use `or` instead?\n",
    "a_equal_b or test()"
   ]
  },
  {
   "cell_type": "markdown",
   "metadata": {},
   "source": [
    "<hr style=\"border:1px solid gray\">\n",
    "\n",
    "<font color='red' size = '5'> Student Exercise </font>\n",
    "\n",
    "In the empty code cells below complete the following tasks:\n",
    "\n",
    "1. Run the code cell that contains five variable declarations\n",
    "2. Is `var1` in `var2`?\n",
    "3. Is `var3` in `var2`?\n",
    "4. Is `var1` equal to `var3`?\n",
    "5. Is `var1` equal to `var3` **and** `var1` equal to `var4`?\n",
    "6. Is the number of elements in `var2` greater than or equal to `var5`?\n",
    "7. Is the number of elements in `var2` greater than or equal to `var5` **or** does `var4` exist in `var2`?\n",
    "\n",
    "-----"
   ]
  },
  {
   "cell_type": "code",
   "execution_count": null,
   "metadata": {},
   "outputs": [],
   "source": [
    "# 1. Run the code cell that contains five variable declarations\n",
    "var1 = 42\n",
    "var2 = ['The', 'meaning', 'of', 'life', 'is', 42]\n",
    "var3 = 3*14.0\n",
    "var4 = (2+2+2)*7\n",
    "var5 = 7"
   ]
  },
  {
   "cell_type": "code",
   "execution_count": null,
   "metadata": {},
   "outputs": [],
   "source": [
    "# 2. Is `var1` in `var2`?\n"
   ]
  },
  {
   "cell_type": "code",
   "execution_count": null,
   "metadata": {},
   "outputs": [],
   "source": [
    "# 3. Is `var3` in `var2`?\n"
   ]
  },
  {
   "cell_type": "code",
   "execution_count": null,
   "metadata": {},
   "outputs": [],
   "source": [
    "# 4. Is `var1` equal to `var3`?\n"
   ]
  },
  {
   "cell_type": "code",
   "execution_count": null,
   "metadata": {},
   "outputs": [],
   "source": [
    "# 5. Is `var1` equal to `var3` **and** `var1` equal to `var4`?\n"
   ]
  },
  {
   "cell_type": "code",
   "execution_count": null,
   "metadata": {},
   "outputs": [],
   "source": [
    "# 6. Is the number of elements in `var2` greater than or equal to `var5`?\n"
   ]
  },
  {
   "cell_type": "code",
   "execution_count": null,
   "metadata": {},
   "outputs": [],
   "source": [
    "# 7. Is the number of elements in `var2` greater than or equal to `var5` **or** does `var4` exist in `var2`?\n"
   ]
  },
  {
   "cell_type": "markdown",
   "metadata": {},
   "source": [
    "<hr style=\"border:1px solid gray\">\n",
    "\n",
    "## The Mighty `if` Statement\n",
    "\n",
    "Python supports conditional execution of code blocks by using `if` conditional branching statements. Formally, the syntax for an `if` statement is simple. \n",
    "\n",
    "```python\n",
    "if (condition):\n",
    "    # Do something\n",
    "```\n",
    "\n",
    "If the condition evaluates to `True`, the indented statements are executed; otherwise, they are not and the program execution continues with the lines following the `if` clause. The condition can be any combination of variables, functions, comparison, or logical operators as long as the final result evaluates to either `True` or `False`. The following code cell demonstrates the basic operation of an `if` statement.\n",
    "\n",
    "-----"
   ]
  },
  {
   "cell_type": "code",
   "execution_count": null,
   "metadata": {},
   "outputs": [],
   "source": [
    "# Which statements will be printed?\n",
    "print('Before the if statement.')\n",
    "\n",
    "if (a == b):\n",
    "    print(f'a, {a}, is equal to b, {b}')\n",
    "\n",
    "print('After the if statement.')"
   ]
  },
  {
   "cell_type": "code",
   "execution_count": null,
   "metadata": {},
   "outputs": [],
   "source": [
    "# Which statements will be printed?\n",
    "print('Before the if statement.')\n",
    "\n",
    "if (a <= b):\n",
    "    print(f'a, {a}, is less than or equal to b, {b}')\n",
    "\n",
    "print('After the if statement.')"
   ]
  },
  {
   "cell_type": "markdown",
   "metadata": {},
   "source": [
    "-----\n",
    "\n",
    "An `if` statement can also execute statements if the condition is `False` by using an `else` clause as shown in the following code skeleton:\n",
    "\n",
    "\n",
    "```python\n",
    "if (condition):\n",
    "    # Do something\n",
    "else:\n",
    "    # Do something else        \n",
    "```\n",
    "\n",
    "In this case, either the first set of statements (indicated by the `# Do something` comment) is executed, or the second set of statements (indicted by the `# Do something else` comment) is executed, depending on whether the condition evaluates to `True` (the first set of statements) or `False` (the second set of statements). This is demonstrated in the following code cell.\n",
    "\n",
    "-----"
   ]
  },
  {
   "cell_type": "code",
   "execution_count": null,
   "metadata": {},
   "outputs": [],
   "source": [
    "# Test out an if ... else statement\n",
    "\n",
    "print('Before the if statement.')\n",
    "\n",
    "if (a == b):\n",
    "    print('Inside the true section - meaning a is equal to b')\n",
    "else:\n",
    "    print('Inside the false section - meaning a is not equal to b.')\n",
    "\n",
    "print('After the if statement.')"
   ]
  },
  {
   "cell_type": "markdown",
   "metadata": {},
   "source": [
    "-----\n",
    "\n",
    "### Nested `if` statements\n",
    "\n",
    "We can nest `if` statements inside each other to handle more complex tests. The key requirement is that you must maintain the proper level of indentation for each `if` and `else` clause. A nested `if` statement can be useful when handling multiple options depending on the values of multiple variables. This is demonstrated in the following example.\n",
    "\n",
    "-----"
   ]
  },
  {
   "cell_type": "code",
   "execution_count": null,
   "metadata": {},
   "outputs": [],
   "source": [
    "# We assign multiple variables on one line, separating them by a semicolon\n",
    "# This is just a shorthand to avoid placing them on different lines\n",
    "x = 7 ; y = 14"
   ]
  },
  {
   "cell_type": "code",
   "execution_count": null,
   "metadata": {},
   "outputs": [],
   "source": [
    "if (x > 10):\n",
    "    if (y > 10):\n",
    "        print('Both x and y are large.')\n",
    "    else:\n",
    "        print('x is large and y is small.')\n",
    "else:\n",
    "    if (y > 10):\n",
    "        print('x is small and y is large.')\n",
    "    else:\n",
    "        print('Both x and y are small.')"
   ]
  },
  {
   "cell_type": "markdown",
   "metadata": {},
   "source": [
    "-----\n",
    "\n",
    "### The `elif` clause\n",
    "\n",
    "Multiple branches are supported by using one or more `elif` commands, which is shorthand for `else if`, after the initial `if` statement. An `else` statement can be used to handle any results that are not met by previous conditional statements. The code blocks are initiated by following a colon character and indented four spaces, as demonstrated in the following sample code:\n",
    "\n",
    "```python\n",
    "if (x > 10):\n",
    "    print('x is large')\n",
    "elif (x > 5):\n",
    "    print('x is medium')\n",
    "else:\n",
    "    print('x is small')\n",
    "```\n",
    "\n",
    "Depending on the value of the variable `x`, the first, second, or third `print` statement will be executed. `if` control statements can be nested if required by the algorithmic logic, but doing so requires being extremely careful to maintain proper indentation. Nested conditional statements are demonstrated in the following sample code:\n",
    "\n",
    "```python\n",
    "if (x > 10):\n",
    "    if (y > 10):\n",
    "        print('x and y are large')\n",
    "    else:\n",
    "        print('x is large, but y is not')  \n",
    "elif (x > 5):\n",
    "    if (y > 10):\n",
    "        print('x is medium but y is large')\n",
    "else:\n",
    "    if (y > 10):\n",
    "        print('x is small and y is large')\n",
    "    elif (y > 5):\n",
    "        print('x is small but y is medium')\n",
    "    else:\n",
    "        print('x and y are small')\n",
    "```\n"
   ]
  },
  {
   "cell_type": "markdown",
   "metadata": {},
   "source": [
    "-----\n",
    "\n",
    "### Handling empty code blocks\n",
    "\n",
    "While you can simply place a comment in an indented block to indicate no code should be executed, a better option, which is explicit, is to use the `pass` statement. The `pass` statement does nothing and is a simple placeholder that is used in place of a code block when no action is required. This statement can be useful to delay writing specific operations, for example, when you build a multi-way `if` statement and the code to implement each option is not finalized. This is demonstrated in the following code cell, which you should run multiple times using different colors.\n",
    "\n",
    "-----"
   ]
  },
  {
   "cell_type": "code",
   "execution_count": null,
   "metadata": {
    "tags": []
   },
   "outputs": [],
   "source": [
    "# Value is entered by user and changed to lower case\n",
    "value = input('Enter your favorite color:').lower()\n",
    "\n",
    "if (value == 'blue'):\n",
    "    print('Your favorite color is blue.')\n",
    "    # modify a plot visualization to use blue\n",
    "elif (value == 'red'):\n",
    "    pass # No code option yet for red\n",
    "else:\n",
    "    print('You did not enter a valid color selection')"
   ]
  },
  {
   "cell_type": "markdown",
   "metadata": {},
   "source": [
    "<hr style=\"border:1px solid gray\">\n",
    "\n",
    "<font color='red' size = '5'> Student Exercise </font>\n",
    "\n",
    "The code cell below contains the nested conditional statement described earlier. Before executing the code cell, determine what output will be displayed. Now run the code cell. Was your expectation correct? Try different values for `x` and `y` and repeat this process, and (optionally) try changing the conditional statements.\n",
    "\n",
    "-----"
   ]
  },
  {
   "cell_type": "code",
   "execution_count": null,
   "metadata": {},
   "outputs": [],
   "source": [
    "# Change the values for x and y and see how the output changes\n",
    "\n",
    "x = 10\n",
    "y = 10\n",
    "\n",
    "if (x > 10):\n",
    "    if (y > 10):\n",
    "        print('x and y are large')\n",
    "    else:\n",
    "        print('x is large, but y is not')  \n",
    "elif (x > 5):\n",
    "    if (y > 10):\n",
    "        print('x is medium but y is large')\n",
    "else:\n",
    "    if (y > 10):\n",
    "        print('x is small and y is large')\n",
    "    elif (y > 5):\n",
    "        print('x is small but y is medium')\n",
    "    else:\n",
    "        print('x and y are small')"
   ]
  },
  {
   "cell_type": "markdown",
   "metadata": {},
   "source": [
    "<hr style=\"border:1px solid gray\">\n",
    "\n",
    "## Introduction to Looping\n",
    "\n",
    "A **loop** is defined as a segment of code that executes multiple times. An **iteration** refers to the process in which the code segment is executed once. A loop can undergo many iterations. There are two basic looping techniques.\n",
    "\n",
    "### `while` loops\n",
    "\n",
    "A `while` loop will execute while a condition is `True`, as its name implies. The `while` loop first checks whether a condition is true. If it is, the loop takes some actions and then rechecks the condition. If the condition is true, the loop executes again. This process repeats until the condition is false. *Note:* This is where you can easily create an **infinite loop**, which is a very, very **bad** thing.\n",
    "\n",
    "The syntax for a `while` loop is:\n",
    "\n",
    "```python\n",
    "while condition:\n",
    "    statement 1\n",
    "    statement 2\n",
    "    ...\n",
    "```\n",
    "\n",
    "The following pseudocode indicates what happens when you go grocery shopping:\n",
    "\n",
    "\n",
    "> *While there are more items on the shopping list  \n",
    "> &nbsp;&nbsp;&nbsp;&nbsp;Find item in store  \n",
    "> &nbsp;&nbsp;&nbsp;&nbsp;Add item to the grocery cart*\n",
    "\n",
    "\n",
    "### `for` loops\n",
    "\n",
    "A `for` loop is very similiar to a `while` loop. It will test a condition and execute the body of the loop if the condition is satisfied. The difference is that a `for` loop will *iterate*, or loop over, something automatically. You use a `for` loop when you know the number of times you need to execute the statements. You will encounter `for` loops very, very frequently. Therefore, you should gain a solid understanding of them. The syntax of a `for` loop is:\n",
    "\n",
    "```python\n",
    "for variable in something_iterable:\n",
    "    statement 1\n",
    "    statement 2\n",
    "    ...\n",
    "```\n",
    "\n",
    "The following pseudocode indicates calculating an average numeric grade for a student:\n",
    "\n",
    "> *Initialize total points to zero  \n",
    "> For each grade in the gradebook  \n",
    "> &nbsp;&nbsp;&nbsp;&nbsp;Add the grade to the total points  \n",
    "> Average numeric grade is total points divided by number of grades*\n",
    "\n"
   ]
  },
  {
   "cell_type": "markdown",
   "metadata": {},
   "source": [
    "## I'm Feeling Loopy and Can't Stop\n",
    "\n",
    "As alluded to earlier, you can mistakenly, but easily create an infinite loop when using `while` loops. The test condition of a `while` loop must eventually evaluate to `False` in order for the loop to terminate. An example of an infinite loop would look something like the following:\n",
    "\n",
    "```python\n",
    "while True:\n",
    "    print('Stuck in a loop.')\n",
    "```\n",
    "\n",
    "This block of code will run forever because the condition is always `True`. The result is an infinite number of print statements. In Jupyter Notebook if you get stuck in a loop you can try several things to stop execution of the Python interpreter. \n",
    "\n",
    "- Try typing `Ctrl + C` - sometimes multiple times\n",
    "- Click on the \"square stop button\" from the menu to try interrupting the kernel\n",
    "- In command mode, you can try typing the letter `I` to interrupt the kernel\n",
    "- Go to the `Kernel` menu and select `Shutdown`\n",
    "\n",
    "Eventually, one of those should work, but it may take some time for the loop to stop. I am not going to try it, but I have the code commented out below if you are feeling lucky enough to try it on your own."
   ]
  },
  {
   "cell_type": "code",
   "execution_count": null,
   "metadata": {},
   "outputs": [],
   "source": [
    "### ONLY uncomment the two lines of code if you have some time to spare\n",
    "### It is an infinite loop and you will need to interrupt the kernel\n",
    "# while True:\n",
    "#     print('Stuck in a loop.')"
   ]
  },
  {
   "cell_type": "markdown",
   "metadata": {},
   "source": [
    "<hr style=\"border:1px solid gray\">\n",
    "\n",
    "<font color='red' size = '5'> Student Exercise </font>\n",
    "\n",
    "Using the code cells below complete the following tasks:\n",
    "\n",
    "1. Create and initialize a variable named `my_counter` to the value 1.\n",
    "2. Create and initialize a variable named `multiplier` to the value 3.\n",
    "3. Using a `while` loop with the condition of `my_counter < 10`, print out the value of `my_counter` multiplied by the `multiplier`. Inside of your `while` loop be sure to increment `my_counter` each iteration!\n",
    "4. Reset `my_counter` to the value 1.\n",
    "5. Using another `while` loop with the same condition, print the same output. Now, however, instead of incrementing `my_counter` by 1 each iteration, increment it by 2 each time.\n",
    "\n",
    "<hr style=\"border:1px solid gray\">"
   ]
  },
  {
   "cell_type": "code",
   "execution_count": null,
   "metadata": {},
   "outputs": [],
   "source": [
    "# 1. Create and initialize a variable named `my_counter` to the value 1.\n"
   ]
  },
  {
   "cell_type": "code",
   "execution_count": null,
   "metadata": {},
   "outputs": [],
   "source": [
    "# 2. Create and initialize a variable named `multiplier` to the value 3.\n"
   ]
  },
  {
   "cell_type": "code",
   "execution_count": null,
   "metadata": {},
   "outputs": [],
   "source": [
    "# 3. Using a `while` loop with the condition of `my_counter < 10`, print out \n",
    "# the value of `my_counter` multiplied by the `multiplier`. Inside of your \n",
    "# `while` loop be sure to increment `my_counter` each iteration!\n"
   ]
  },
  {
   "cell_type": "code",
   "execution_count": null,
   "metadata": {},
   "outputs": [],
   "source": [
    "# 4. Reset `my_counter` to the value 1.\n"
   ]
  },
  {
   "cell_type": "code",
   "execution_count": null,
   "metadata": {},
   "outputs": [],
   "source": [
    "# 5. Using another `while` loop with the same condition, print the same output. \n",
    "# Now, however, instead of incrementing `my_counter` by 1 each iteration, \n",
    "# increment it by 2 each time.\n"
   ]
  },
  {
   "cell_type": "markdown",
   "metadata": {},
   "source": [
    "## Repeat a Fixed Number of Times\n",
    "\n",
    "You will also encounter the scenario where you know the number of times you want to execute a set of commands. You can accomplish this task by using the built-in `range()` function. Although it appears that `range()` returns and acts like a `list`, it does not; it is in fact an object which returns successive items of the desired sequence when you iterate over it (this saves space). You can revisit the material on `range` if you need to brush up on the differences between it and a `list`.\n",
    "\n",
    "In the code cell below, we have the the following code:\n",
    "```python\n",
    "n = 5\n",
    "for i in range(n):\n",
    "    print('i =', i)\n",
    "```\n",
    "\n",
    "The variable `n` is how many times we want the loop to execute. The statement `for i in range(n):` is the part that handles the iteration. Here the variable `i` is simply a placeholder variable that changes with each iteration of the loop. You will often see the variable named `i` in these situations to represent the **index** or **iteration** as the loop executes. Everything indented after the colon is part of the `for` loop. In this case, we only have one statement. Let's try running the code."
   ]
  },
  {
   "cell_type": "code",
   "execution_count": null,
   "metadata": {},
   "outputs": [],
   "source": [
    "# Set up the number of times you want to execute a statement\n",
    "n = 5\n",
    "for i in range(n):\n",
    "    print('i =', i)"
   ]
  },
  {
   "cell_type": "markdown",
   "metadata": {},
   "source": [
    "You should have noticed that by default the `range()` function starts at 0. You can change this behavior by passing in two parameters: the starting point and the ending point, which is **excluded**. The call `range(1, 5)` would only create the sequence of numbers `1, 2, 3, 4` and **not** include the number 5. Let's change the starting point and try the loop again."
   ]
  },
  {
   "cell_type": "code",
   "execution_count": null,
   "metadata": {},
   "outputs": [],
   "source": [
    "# Create a starting point of 1\n",
    "start = 1\n",
    "for i in range(start, n):\n",
    "    print('i =', i)"
   ]
  },
  {
   "cell_type": "markdown",
   "metadata": {},
   "source": [
    "The nice thing about a `for` loop is that it works with **any iterable object**. For example, if we have a `list`, we can easily loop over it **without** using the `range()` function. Let's take a look at three examples, one looping over a `list`, one looping over a `dictionary`, and one looping over a string."
   ]
  },
  {
   "cell_type": "code",
   "execution_count": null,
   "metadata": {
    "tags": []
   },
   "outputs": [],
   "source": [
    "# Create a list with some stuff in it\n",
    "my_list = [1, 3, \"Five\", 7, 9]\n",
    "\n",
    "# Iterate over my_list with a for loop, simply printing each element\n",
    "for i in my_list:\n",
    "    print(i)"
   ]
  },
  {
   "cell_type": "code",
   "execution_count": null,
   "metadata": {},
   "outputs": [],
   "source": [
    "# Create a dictionary\n",
    "my_dict = {'color':'blue', 'size':'L', 'price':42.99}"
   ]
  },
  {
   "cell_type": "code",
   "execution_count": null,
   "metadata": {},
   "outputs": [],
   "source": [
    "# Iterate over the keys of my_dict\n",
    "for k in my_dict.keys():\n",
    "    print('key was', k)"
   ]
  },
  {
   "cell_type": "code",
   "execution_count": null,
   "metadata": {},
   "outputs": [],
   "source": [
    "# Iterate over the values of my_dict\n",
    "for v in my_dict.values():\n",
    "    print('value was', v)"
   ]
  },
  {
   "cell_type": "code",
   "execution_count": null,
   "metadata": {},
   "outputs": [],
   "source": [
    "# More common, iterate over both the keys and values of my_dict\n",
    "for k, v in my_dict.items():\n",
    "    print(f'key is {k:<10} with a value of {v:>10}')"
   ]
  },
  {
   "cell_type": "code",
   "execution_count": null,
   "metadata": {},
   "outputs": [],
   "source": [
    "# Try looping over a string\n",
    "the_string = 'Python'\n",
    "for character in the_string:\n",
    "    print(character)"
   ]
  },
  {
   "cell_type": "markdown",
   "metadata": {},
   "source": [
    "<hr style=\"border:1px solid gray\">\n",
    "\n",
    "<font color='red' size = '5'> Student Exercise </font>\n",
    "\n",
    "Using the code cells below complete the following tasks:\n",
    "\n",
    "1. Using `range(1, 7)` and a `for` loop, print out the `*` character repeated the number of times the current value your index number from `range` is. The resulting output should look like:\n",
    "\n",
    "```\n",
    "*\n",
    "**\n",
    "***\n",
    "****\n",
    "*****\n",
    "******\n",
    "```\n",
    "\n",
    "2. Run the code cell containing the variable `your_list`.\n",
    "3. Iterate over `your_list`, printing out each element multiplied by 4.\n",
    "4. Run the code cell containing the variable `your_dict`. It contains the results of a survey of third-graders asking them their favorite color.\n",
    "5. Using a `for` loop, calculate how many total students took the survey.\n",
    "6. Can you find this same answer without using a `for` loop?\n",
    "\n",
    "<hr style=\"border:1px solid gray\">"
   ]
  },
  {
   "cell_type": "code",
   "execution_count": null,
   "metadata": {},
   "outputs": [],
   "source": [
    "# 1. Using `range(1, 7)` and a `for` loop, print out the `*` character repeated \n",
    "# the number of times the current number is from `range`.\n"
   ]
  },
  {
   "cell_type": "code",
   "execution_count": null,
   "metadata": {},
   "outputs": [],
   "source": [
    "# 2. Run the code cell containing the variable `your_list`\n",
    "your_list = [3, 5, 7.0, 'nine', 11.1]"
   ]
  },
  {
   "cell_type": "code",
   "execution_count": null,
   "metadata": {},
   "outputs": [],
   "source": [
    "# 3. Iterate over `your_list`, printing out each element multiplied by 4.\n"
   ]
  },
  {
   "cell_type": "code",
   "execution_count": null,
   "metadata": {},
   "outputs": [],
   "source": [
    "# 4. Run the code cell containing the variable `your_dict`.\n",
    "your_dict = {'red':32,\n",
    "             'orange':12,\n",
    "             'yellow':3,\n",
    "             'green':41,\n",
    "             'blue':56,\n",
    "             'indigo':9,\n",
    "             'violet':4}"
   ]
  },
  {
   "cell_type": "code",
   "execution_count": null,
   "metadata": {},
   "outputs": [],
   "source": [
    "# 5. Using a `for` loop, calculate how many total students took the survey.\n"
   ]
  },
  {
   "cell_type": "code",
   "execution_count": null,
   "metadata": {},
   "outputs": [],
   "source": [
    "# 6. Can you find this same answer without using a `for` loop?\n"
   ]
  },
  {
   "cell_type": "markdown",
   "metadata": {},
   "source": [
    "## Nested Control Statements\n",
    "\n",
    "We saw some examples of **nested** control statements earlier when we examined nested `if` statements. A nested `if` statement is an `if` clause placed inside of an `if` or `else` code block. You can nest conditional and control statements as deep as you want, but caution should be taken as the levels increase so that the proper logic is implemented as intended. Many times you can reduce the nesting and improve the readability of your code by using the `and` clause. "
   ]
  },
  {
   "cell_type": "code",
   "execution_count": null,
   "metadata": {},
   "outputs": [],
   "source": [
    "## Run this code cell multiple times\n",
    "# Get user input\n",
    "user_input = float(input('Enter a number between 1 and 10:'))\n",
    "\n",
    "# Nested if ... else\n",
    "if user_input >= 1:\n",
    "    if user_input <= 10:\n",
    "        if user_input <=5:\n",
    "            print('A handful or less')\n",
    "        else:\n",
    "            print('More than a handful')\n",
    "    else:\n",
    "        print('You did not follow instructions')\n",
    "else:\n",
    "    print('Numbers less than 1 are not acceptable')"
   ]
  },
  {
   "cell_type": "markdown",
   "metadata": {},
   "source": [
    "We can modify the code above to include an `and` statement that checks to make sure the number entered is in the valid range that was asked. Many programmers believe this approach is more readable."
   ]
  },
  {
   "cell_type": "code",
   "execution_count": null,
   "metadata": {},
   "outputs": [],
   "source": [
    "## Run this code cell multiple times\n",
    "# Get user input\n",
    "user_input2 = float(input('Enter a number between 1 and 10:'))\n",
    "\n",
    "# Do something with input\n",
    "if user_input2 >= 1 and user_input2 <= 10:\n",
    "    # number in proper range\n",
    "    if user_input2 <= 5:\n",
    "        print('A handful or less')\n",
    "    else:\n",
    "        print('More than a handful')\n",
    "else:\n",
    "    print('You did not follow instructions')"
   ]
  },
  {
   "cell_type": "markdown",
   "metadata": {},
   "source": [
    "Other commonly used nested control statements include nesting `if` statements inside of loops and nested `for` loops for multidimensional lists. Let's examine some examples."
   ]
  },
  {
   "cell_type": "code",
   "execution_count": null,
   "metadata": {},
   "outputs": [],
   "source": [
    "# Loop over the elements in my_list and print out its type only if it is a string\n",
    "# Keep count of how many elements were strings\n",
    "str_count = 0\n",
    "for i in my_list:\n",
    "    i_type = type(i)\n",
    "    if(i_type == str):\n",
    "        str_count += 1\n",
    "        print(f'{i} has type {type(i)}')\n",
    "        \n",
    "print(f'There were {str_count} elements with type `str`')\n",
    "print(f'   which is {str_count/len(my_list):0.2%} of the list')"
   ]
  },
  {
   "cell_type": "code",
   "execution_count": null,
   "metadata": {},
   "outputs": [],
   "source": [
    "# 2D list - each element is a list of test scores for a student\n",
    "two_d_list = [[87,82,93],[79,75,80],[81,81,81],[90,71,82]]\n",
    "print(two_d_list)"
   ]
  },
  {
   "cell_type": "code",
   "execution_count": null,
   "metadata": {},
   "outputs": [],
   "source": [
    "# Loop over the two_d_list\n",
    "for student in two_d_list:\n",
    "    # initialize student's total points to 0\n",
    "    student_points = 0\n",
    "    num_tests = len(student)\n",
    "    \n",
    "    for grade in student:\n",
    "        student_points += grade\n",
    "        \n",
    "    final_grade = student_points/num_tests\n",
    "    if final_grade >= 80:\n",
    "        letter_grade = 'P'\n",
    "    else:\n",
    "        letter_grade = 'F'\n",
    "        \n",
    "    print(f'Total points for this student is {student_points} for an average of {student_points/num_tests:0.2f}% and a letter grade of {letter_grade}')\n",
    "        "
   ]
  },
  {
   "cell_type": "markdown",
   "metadata": {},
   "source": [
    "<hr style=\"border:1px solid gray\">\n",
    "\n",
    "<font color='red' size = '5'> Student Exercise </font>\n",
    "\n",
    "Using the code cells below complete the following tasks:\n",
    "\n",
    "1. You should have noticed in the previous student exercise that `your_list` contained a string. You now only want to multiply elements that are numbers. For non-numeric elements print a statement indicating so. Write a `for` loop to accomplish this task. HINT: You will need to use a conditional statement inside the `for` loop.\n",
    "2. Using `your_dict` from before, you now want to calculate how many third-graders prefer a \"warm\" color and how many prefer a \"cool\" color. Warm colors include red, orange, and yellow. Cool colors include green, blue, indigo, and violet. \n",
    "\n",
    "<hr style=\"border:1px solid gray\">"
   ]
  },
  {
   "cell_type": "code",
   "execution_count": null,
   "metadata": {},
   "outputs": [],
   "source": [
    "# 1. You should have noticed that `your_list` contained a string. You now only \n",
    "# want to multiply elements that are numbers. For non-numeric elements print a \n",
    "# statement indicating so. Write a `for` loop to accomplish this task.\n"
   ]
  },
  {
   "cell_type": "code",
   "execution_count": null,
   "metadata": {},
   "outputs": [],
   "source": [
    "# 2. Using `your_dict` from before, you now want to calculate how many \n",
    "# third-graders prefer a \"warm\" color and how many prefer a \"cool\" color.\n"
   ]
  },
  {
   "cell_type": "markdown",
   "metadata": {
    "tags": []
   },
   "source": [
    "<hr style=\"border:1px solid gray\">\n",
    "\n",
    "## Altering Flow\n",
    "\n",
    "To alter flow within a loop, we can use the keywords `break` or `continue`. The `break` statement breaks out of the innermost enclosing `for` or `while` loop. Conversely, the `continue` statement continues with the next iteration of the loop. Let's look at both now."
   ]
  },
  {
   "cell_type": "code",
   "execution_count": null,
   "metadata": {},
   "outputs": [],
   "source": [
    "# Loop through numbers 1 to 9\n",
    "# Break out of the for loop when we find 5\n",
    "for num in range(1, 10):\n",
    "    if num == 5:\n",
    "        print('Found 5, so breaking')\n",
    "        break\n",
    "    print('num is', num)"
   ]
  },
  {
   "cell_type": "code",
   "execution_count": null,
   "metadata": {},
   "outputs": [],
   "source": [
    "# Loop through numbers 1 to 9\n",
    "# Continue to next iteration when we find 5\n",
    "for num in range(1, 10):\n",
    "    if num == 5:\n",
    "        continue  # skip the number 5\n",
    "    print('num is', num)"
   ]
  },
  {
   "cell_type": "markdown",
   "metadata": {},
   "source": [
    "### Breaking and Continuing for Inner Loops\n",
    "\n",
    "Let's look at our `two_d_list` from before and try both a `break` and a `continue` from an inner loop to see what happens. Recall that `two_d_list` is a list that contains lists. The inner list contains the test scores for a student. First, we will try `break` when a student has a grade less than 80. This action will stop calculating the grade for that particular student and go to the next student. Then, we'll try using a `continue` statement when a student has a grade less than 80. You could think of this action as dropping the low test scores."
   ]
  },
  {
   "cell_type": "code",
   "execution_count": null,
   "metadata": {},
   "outputs": [],
   "source": [
    "# What about breaking out of an inner loop\n",
    "# Using the two_d_list defined earlier, break out of the inner loop\n",
    "# if a student's test score is < 80\n",
    "for student in two_d_list:\n",
    "    # initialize student's total points to 0\n",
    "    student_points = 0\n",
    "    num_tests = len(student)\n",
    "    \n",
    "    for grade in student:\n",
    "        if grade < 80:\n",
    "            print('Student has a low test score, stopping calculation')\n",
    "            break\n",
    "        student_points += grade\n",
    "        \n",
    "    final_grade = student_points/num_tests\n",
    "    if final_grade >= 80:\n",
    "        letter_grade = 'P'\n",
    "    else:\n",
    "        letter_grade = 'F'\n",
    "        \n",
    "    print(f'Total points for this student is {student_points} over {num_tests} tests for an average of {student_points/num_tests:0.2f}% and a letter grade of {letter_grade}')"
   ]
  },
  {
   "cell_type": "code",
   "execution_count": null,
   "metadata": {},
   "outputs": [],
   "source": [
    "# What about continuing  of an inner loop\n",
    "# Using the two_d_list defined earlier, continue to next iteration of the inner\n",
    "# loop if a student's test score is < 80\n",
    "for student in two_d_list:\n",
    "    # initialize student's total points to 0\n",
    "    student_points = 0\n",
    "    num_tests = len(student)\n",
    "    \n",
    "    for grade in student:\n",
    "        if grade < 80:\n",
    "            print('Student has a low test score. Dropping low test score.')\n",
    "            num_tests -= 1\n",
    "            continue\n",
    "        student_points += grade\n",
    "        \n",
    "    final_grade = student_points/num_tests\n",
    "    if final_grade >= 80:\n",
    "        letter_grade = 'P'\n",
    "    else:\n",
    "        letter_grade = 'F'\n",
    "        \n",
    "    print(f'Total points for this student is {student_points} over {num_tests} tests for an average of {student_points/num_tests:0.2f}% and a letter grade of {letter_grade}')"
   ]
  },
  {
   "cell_type": "markdown",
   "metadata": {},
   "source": [
    "<hr style=\"border:1px solid gray\">\n",
    "\n",
    "<font color='red' size = '5'> Student Exercise </font>\n",
    "\n",
    "Using the code cells below complete the following tasks:\n",
    "\n",
    "1. Write a `for` loop that iterates over the numbers 50 to 1 printing the number each time in reverse order. When the number 42 is encountered, break out of the loop.\n",
    "2. Write a `for` loop that iterates over the numbers 5 to 10 printing the number each time. When the number 7 or 9 is encountered, continue to the next iteration without printing those numbers.\n",
    "\n"
   ]
  },
  {
   "cell_type": "code",
   "execution_count": null,
   "metadata": {},
   "outputs": [],
   "source": [
    "# 1. Write a `for` loop that iterates over the numbers 50 to 1 printing the number \n",
    "# each time in reverse order. When the number 42 is encountered, break out of the loop.\n"
   ]
  },
  {
   "cell_type": "code",
   "execution_count": null,
   "metadata": {},
   "outputs": [],
   "source": [
    "# 2. Write a `for` loop that iterates over the numbers 5 to 10 printing the number \n",
    "# each time. When the number 7 or 9 is encountered, continue to the next iteration\n",
    "# without printing those numbers.\n"
   ]
  },
  {
   "cell_type": "markdown",
   "metadata": {},
   "source": [
    "-----\n",
    "## Ancillary Information\n",
    "\n",
    "The following links point you to additional resources that you might find helpful in learning this material.\n",
    "\n",
    "- The official Python documentation for [conditional statements][1].\n",
    "- The book _A Byte of Python_ includes an introduction to [conditional statements][2].\n",
    "- The book [*Think Python*][3] includes a discussion on conditional statements.\n",
    "- The official Python documentation for [list comprehensions][4].\n",
    "\n",
    "\n",
    "-----\n",
    "\n",
    "[1]: https://docs.python.org/3/tutorial/controlflow.html#if-statements\n",
    "[2]: https://python.swaroopch.com/control_flow.html\n",
    "[3]: http://greenteapress.com/thinkpython2/html/thinkpython2006.html\n",
    "[4]: https://docs.python.org/3/tutorial/datastructures.html#list-comprehensions"
   ]
  },
  {
   "cell_type": "markdown",
   "metadata": {
    "deletable": false,
    "editable": false,
    "tags": []
   },
   "source": [
    "**&copy; 2022 - Present: Matthew D. Dean, Ph.D.   \n",
    "Clinical Associate Professor of Business Analytics at William \\& Mary.**"
   ]
  }
 ],
 "metadata": {
  "kernelspec": {
   "display_name": "Python 3 (ipykernel)",
   "language": "python",
   "name": "python3"
  },
  "language_info": {
   "codemirror_mode": {
    "name": "ipython",
    "version": 3
   },
   "file_extension": ".py",
   "mimetype": "text/x-python",
   "name": "python",
   "nbconvert_exporter": "python",
   "pygments_lexer": "ipython3",
   "version": "3.8.8"
  }
 },
 "nbformat": 4,
 "nbformat_minor": 4
}
