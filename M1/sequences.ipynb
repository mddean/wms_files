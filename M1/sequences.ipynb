{
 "cells": [
  {
   "cell_type": "markdown",
   "metadata": {},
   "source": [
    "# Sequences\n",
    "----"
   ]
  },
  {
   "cell_type": "markdown",
   "metadata": {},
   "source": [
    "We have already seen two *built-in* numeric data types in Python: `int` and `float`. We have also seen `str` for strings which is technically called a *text sequence type*. First, we will revisit the `str` data type. Then, we will explore a few more built-in sequence types that will prove very useful: `list`, `tuple`, and `range`. \n",
    "\n",
    "<hr style=\"border:1px solid gray\">\n",
    "\n",
    "## Strings - the `str` data type\n",
    "\n",
    "The `str` data type is a special sequence type - a *text* sequence type. Recall that we create strings by providing a sequence of zero or more characters enclosed in either a pair of single quote characters, `'`, or a pair of double quote characters, `\"`."
   ]
  },
  {
   "cell_type": "code",
   "execution_count": null,
   "metadata": {},
   "outputs": [],
   "source": [
    "# Create a couple of strings, print them and their types out\n",
    "string1 = 'Strings glorious strings!'\n",
    "print('string1 =', string1)\n",
    "print('   type =', type(string1))\n",
    "\n",
    "string2 = '3000'\n",
    "print('\\nstring2 =', string2)\n",
    "print('   type =', type(string2))"
   ]
  },
  {
   "cell_type": "markdown",
   "metadata": {},
   "source": [
    "-----\n",
    "We will often need to manipulate string data. Luckily, there are several useful methods for strings. We look at several next.\n",
    "\n",
    "-----"
   ]
  },
  {
   "cell_type": "markdown",
   "metadata": {},
   "source": [
    "### Concatenate Strings"
   ]
  },
  {
   "cell_type": "code",
   "execution_count": null,
   "metadata": {},
   "outputs": [],
   "source": [
    "# Concatenate two strings together\n",
    "# The + operator is \"overloaded\", so it works on strings in addition to numbers\n",
    "print(string1 + string2)"
   ]
  },
  {
   "cell_type": "markdown",
   "metadata": {},
   "source": [
    "### Repeating Strings"
   ]
  },
  {
   "cell_type": "code",
   "execution_count": null,
   "metadata": {},
   "outputs": [],
   "source": [
    "# Repeating strings\n",
    "# The * operator is also overloaded, allowing it work on strings\n",
    "print(string2 * 4)"
   ]
  },
  {
   "cell_type": "markdown",
   "metadata": {},
   "source": [
    "### Extracting Pieces of Strings\n",
    "\n",
    "To extract characters from a string, you pass an *index* number inside of square brackets `[]`. Indexing starts at 0. So, to get the first character from the string `string1` you would issue the command `string1[0]`. "
   ]
  },
  {
   "cell_type": "code",
   "execution_count": null,
   "metadata": {},
   "outputs": [],
   "source": [
    "# We may want to extract parts of a string\n",
    "# Get the first 2 characters of string1\n",
    "print('string1[0:2] is', string1[0:2])"
   ]
  },
  {
   "cell_type": "code",
   "execution_count": null,
   "metadata": {},
   "outputs": [],
   "source": [
    "# Get the last character of string1\n",
    "print('string1[-1] is', string1[-1])"
   ]
  },
  {
   "cell_type": "code",
   "execution_count": null,
   "metadata": {},
   "outputs": [],
   "source": [
    "# We can also check to see if a substring exists (or not) in the string\n",
    "# We use the `in` operator\n",
    "# Check to see if the word `glorious` is in string1\n",
    "'glorious' in string1"
   ]
  },
  {
   "cell_type": "code",
   "execution_count": null,
   "metadata": {},
   "outputs": [],
   "source": [
    "# Check to see if `hello` is in string2\n",
    "'hello' in string2"
   ]
  },
  {
   "cell_type": "code",
   "execution_count": null,
   "metadata": {},
   "outputs": [],
   "source": [
    "# Is hello *not in* string2?\n",
    "'hello' not in string2"
   ]
  },
  {
   "cell_type": "markdown",
   "metadata": {},
   "source": [
    "-----\n",
    "\n",
    "<font color='red' size = '5'> Student Exercise </font>\n",
    "\n",
    "In the **Code** cell below is a string variable named `weather_report`.\n",
    "\n",
    "Complete the following tasks in the empty **Code** cells below the cell that contains `weather_report`. Be sure to run that cell of code before trying your own code.\n",
    "\n",
    "1. Print both `weather_report` and its type.\n",
    "2. Use the `in` operator to see if the word `wind` is in the weather report.\n",
    "3. Use the `in` operator to see if the word `Wind` is in the weather report.\n",
    "4. Using indexing print the first 4 characters of the weather report.\n",
    "5. Using indexing print the last character of the weather report.\n",
    "\n",
    "-----"
   ]
  },
  {
   "cell_type": "code",
   "execution_count": null,
   "metadata": {},
   "outputs": [],
   "source": [
    "# Run this code cell before attempting the exercise tasks\n",
    "weather_report = 'It is currently 57°F with partly cloudy conditions. \\\n",
    "Winds are from the NE with speeds of 5 to 10 mph.'"
   ]
  },
  {
   "cell_type": "code",
   "execution_count": null,
   "metadata": {},
   "outputs": [],
   "source": [
    "# 1. Print weather_report and its type\n"
   ]
  },
  {
   "cell_type": "code",
   "execution_count": null,
   "metadata": {},
   "outputs": [],
   "source": [
    "# 2. Use the `in` operator to see if the word `wind` is in the weather report.\n"
   ]
  },
  {
   "cell_type": "code",
   "execution_count": null,
   "metadata": {},
   "outputs": [],
   "source": [
    "# 3. Use the `in` operator to see if the word `Wind` is in the weather report.\n"
   ]
  },
  {
   "cell_type": "code",
   "execution_count": null,
   "metadata": {},
   "outputs": [],
   "source": [
    "# 4. Using indexing print the first 4 characters of the weather report.\n"
   ]
  },
  {
   "cell_type": "code",
   "execution_count": null,
   "metadata": {},
   "outputs": [],
   "source": [
    "# 5. Using indexing print the last character of the weather report.\n"
   ]
  },
  {
   "cell_type": "markdown",
   "metadata": {},
   "source": [
    "<hr style=\"border:1px solid gray\">\n",
    "\n",
    "In addition to the text sequence type of `str`, there are three others that are built-in sequence types: `list`, `tuple`, and `range`.\n",
    "\n",
    "## The `list` Sequence Type\n",
    "\n",
    "What exactly is a `list`? A `list` is an ordered, *mutable* collection of objects. *Mutable* means you can make changes to it: adding, deleting, or changing the objects in the collection. In Python, a `list` can contain different data types."
   ]
  },
  {
   "cell_type": "markdown",
   "metadata": {},
   "source": [
    "### Creating Lists\n",
    "\n",
    "You create a list by enclosing data inside square brackets, `[]`, and separating each item with a comma. Let's create a few different lists."
   ]
  },
  {
   "cell_type": "code",
   "execution_count": null,
   "metadata": {},
   "outputs": [],
   "source": [
    "# Create a list that only contains integers\n",
    "int_list = [2, 4, 6]\n",
    "print(int_list)\n",
    "print(type(int_list))"
   ]
  },
  {
   "cell_type": "code",
   "execution_count": null,
   "metadata": {},
   "outputs": [],
   "source": [
    "# Create a list that contains integers and floats\n",
    "num_list = [2, 4.4, 6, 8.8]\n",
    "print(num_list)\n",
    "print(type(num_list))"
   ]
  },
  {
   "cell_type": "code",
   "execution_count": null,
   "metadata": {},
   "outputs": [],
   "source": [
    "# You can put string in the list too\n",
    "str_and_num_list = ['one', 2, 3.0]\n",
    "print(str_and_num_list)\n",
    "print(type(str_and_num_list))"
   ]
  },
  {
   "cell_type": "code",
   "execution_count": null,
   "metadata": {},
   "outputs": [],
   "source": [
    "# You can even create a list of lists\n",
    "twoD_list = [[1,1], [2,2], [3,3]]\n",
    "print(twoD_list)\n",
    "print(type(twoD_list))"
   ]
  },
  {
   "cell_type": "markdown",
   "metadata": {},
   "source": [
    "### Retrieving Elements of Lists\n",
    "\n",
    "We've already seen how to retrieve characters out of a string. The process for a `list` is the same: we access an element of the list by typing the name of the list followed by the *index* of the element we want inside square brackets. **Indexing starts at 0.** For example, to retrieve the first element of the list `str_and_num_list`, which is \"one\", we would use `str_and_num_list[0]`. Let's try it."
   ]
  },
  {
   "cell_type": "code",
   "execution_count": null,
   "metadata": {},
   "outputs": [],
   "source": [
    "# Get the first element of str_and_num_list\n",
    "print(str_and_num_list[0])\n",
    "print(type(str_and_num_list[0]))"
   ]
  },
  {
   "cell_type": "code",
   "execution_count": null,
   "metadata": {},
   "outputs": [],
   "source": [
    "# To get the last element you can use the index -1\n",
    "# This implies that we can count from either the beginning (0) or the end (-1)\n",
    "str_and_num_list[-1]"
   ]
  },
  {
   "cell_type": "markdown",
   "metadata": {},
   "source": [
    "### Slicing Lists\n",
    "\n",
    "If we want more than a single element of a list, that is also quite easily done. The syntax is `list_name[start:end:step]`, where `start` is the index of the first element we want to retrieve (inclusive lower bound), `end` is one more than the index of the last element we want to retrieve (exclusive upper bound), and `step` is the gap between indicies (default gap is 1)."
   ]
  },
  {
   "cell_type": "code",
   "execution_count": null,
   "metadata": {},
   "outputs": [],
   "source": [
    "# Create a new list\n",
    "letters = ['a', 'b', 'c', 'd', 'e', 'f', 'g', 'h']"
   ]
  },
  {
   "cell_type": "markdown",
   "metadata": {},
   "source": [
    "NOTE: Below in my print statements I am using f-strings. We will cover these in more detail later in this module. Essentially, f-strings give us an easy way to make nicely formatted (that's the **f**) outputs."
   ]
  },
  {
   "cell_type": "code",
   "execution_count": null,
   "metadata": {},
   "outputs": [],
   "source": [
    "# What will be printed?\n",
    "print(f'letters[0:2]   : {letters[0:2]}')"
   ]
  },
  {
   "cell_type": "code",
   "execution_count": null,
   "metadata": {},
   "outputs": [],
   "source": [
    "# What will be printed?\n",
    "print(f'letters[2:2]   : {letters[2:2]}')"
   ]
  },
  {
   "cell_type": "code",
   "execution_count": null,
   "metadata": {},
   "outputs": [],
   "source": [
    "# What will be printed?\n",
    "print(f'letters[:2]    : {letters[:2]}')"
   ]
  },
  {
   "cell_type": "code",
   "execution_count": null,
   "metadata": {},
   "outputs": [],
   "source": [
    "# What will be printed?\n",
    "print(f'letters[4:]    : {letters[4:]}')"
   ]
  },
  {
   "cell_type": "code",
   "execution_count": null,
   "metadata": {},
   "outputs": [],
   "source": [
    "# What will be printed?\n",
    "print(f'letters[0:8:2] : {letters[0:8:2]}')"
   ]
  },
  {
   "cell_type": "code",
   "execution_count": null,
   "metadata": {},
   "outputs": [],
   "source": [
    "# What will be printed?\n",
    "print(f'letters[8:0:-2]: {letters[8:0:-2]}')"
   ]
  },
  {
   "cell_type": "markdown",
   "metadata": {},
   "source": [
    "### Modifying List Elements\n",
    "\n",
    "To modify a single element of a list, simply reference that index and assign a different value to it. For example, to change the letter \"a\" to \"first\" in the `letters` list from above, we would type `letters[0] = 'first'`. To change multiple elements at once, you can assign the new values using a list slice."
   ]
  },
  {
   "cell_type": "code",
   "execution_count": null,
   "metadata": {},
   "outputs": [],
   "source": [
    "# Change \"a\" to \"first\" in letters\n",
    "letters[0] = 'first'\n",
    "print(letters)"
   ]
  },
  {
   "cell_type": "code",
   "execution_count": null,
   "metadata": {},
   "outputs": [],
   "source": [
    "# Now, change the last two elements using a list slice\n",
    "# We are counting backwards now: start at -1, end at -3 (exclusive, remember), use step = -1\n",
    "# Verify it's the two we want\n",
    "print(letters[-1:-3:-1])"
   ]
  },
  {
   "cell_type": "code",
   "execution_count": null,
   "metadata": {},
   "outputs": [],
   "source": [
    "# Now change them\n",
    "letters[-1:-3:-1] = ['last', 'second to last']\n",
    "print(letters)"
   ]
  },
  {
   "cell_type": "markdown",
   "metadata": {},
   "source": [
    "### Copying Lists\n",
    "\n",
    "If you try copying a list, say `my_list`, to a second list called `your_list` with the following command `your_list = my_list`, then you have created a *shallow* copy. In effect, you have simply created a new variable (or symbol if you will) called `your_list` that points to the exact same data as `my_list` in the underlying memory space. Therefore, when you make changes to `my_list`, those changes will show up in `your_list` and vice versa. If you do **not** want a shallow copy, then you need to create a *deep* copy by using the method `copy`."
   ]
  },
  {
   "cell_type": "code",
   "execution_count": null,
   "metadata": {},
   "outputs": [],
   "source": [
    "# Create my_list, print it out\n",
    "my_list = [1, 2, 3, 4, 5]\n",
    "print(f'my_list : {my_list}')\n",
    "\n",
    "# Create your_list and print it out\n",
    "your_list = my_list\n",
    "print(f'yourList: {your_list}')"
   ]
  },
  {
   "cell_type": "code",
   "execution_count": null,
   "metadata": {},
   "outputs": [],
   "source": [
    "# Now change the first element of my_list\n",
    "print('Changing the first element of my_list to 999 ...')\n",
    "my_list[0] = 999\n",
    "print(f'my_list  : {my_list}')\n",
    "print(f'your_list: {your_list}')"
   ]
  },
  {
   "cell_type": "code",
   "execution_count": null,
   "metadata": {},
   "outputs": [],
   "source": [
    "# Try the other direction\n",
    "print('Changing the last element of your_list to 999 ...')\n",
    "your_list[-1] = 999\n",
    "print(f'my_list  : {my_list}')\n",
    "print(f'your_list: {your_list}')"
   ]
  },
  {
   "cell_type": "code",
   "execution_count": null,
   "metadata": {},
   "outputs": [],
   "source": [
    "# Let's try a deep copy instead\n",
    "my_new_list = [2, 4, 6, 8]\n",
    "print(f\"my_new_list  : {my_new_list}\")\n",
    "\n",
    "# Create your_new_list with .copy()\n",
    "your_new_list = my_new_list.copy()\n",
    "print(f\"your_new_list: {your_new_list}\")"
   ]
  },
  {
   "cell_type": "code",
   "execution_count": null,
   "metadata": {},
   "outputs": [],
   "source": [
    "# Changing the first element of my_new_list\n",
    "print(\"Changing the first element of my_new_list to -999 ...\")\n",
    "my_new_list[0] = -999\n",
    "print(f\"my_new_list  : {my_new_list}\")\n",
    "print(f\"your_new_list: {your_new_list}\")"
   ]
  },
  {
   "cell_type": "code",
   "execution_count": null,
   "metadata": {},
   "outputs": [],
   "source": [
    "# Try the other direction\n",
    "print(\"Changing the last element of your_new_list to -999 ...\")\n",
    "your_new_list[-1] = -999\n",
    "print(f\"my_new_list  : {my_new_list}\")\n",
    "print(f\"your_new_list: {your_new_list}\")"
   ]
  },
  {
   "cell_type": "markdown",
   "metadata": {},
   "source": [
    "### Other List Operations\n",
    "\n",
    "There are a variety of other useful operations we can use with `list`s. For example, to see how many elements are in a `list` we use the function `len`.  We can join two lists together by using the `+` operator. Similarly, we can use `*` to make copies of a list and append them to the end, thus duplicating lists *n* times. Other various helpful methods include `append`, `insert`, `remove`, `sort`, and `reverse`, among others."
   ]
  },
  {
   "cell_type": "code",
   "execution_count": null,
   "metadata": {},
   "outputs": [],
   "source": [
    "# How many elements in my_new_list?\n",
    "print(f'There are {len(my_new_list)} elements in my_new_list')"
   ]
  },
  {
   "cell_type": "code",
   "execution_count": null,
   "metadata": {},
   "outputs": [],
   "source": [
    "# Concatenate two lists\n",
    "big_list = my_new_list + your_new_list\n",
    "print(big_list)\n",
    "print(f'There are {len(big_list)} elements in big_list')"
   ]
  },
  {
   "cell_type": "code",
   "execution_count": null,
   "metadata": {},
   "outputs": [],
   "source": [
    "# Duplicate list\n",
    "my_new_list_3times = my_new_list * 3\n",
    "print(my_new_list_3times)\n",
    "print(f'There are {len(my_new_list_3times)} elements in my_new_list_3times')"
   ]
  },
  {
   "cell_type": "code",
   "execution_count": null,
   "metadata": {},
   "outputs": [],
   "source": [
    "# Append a new element to big_list\n",
    "big_list.append('New Element')\n",
    "print('After appending an element in big_list it is now:')\n",
    "print(big_list)\n",
    "print(f'There are {len(big_list)} elements in big_list')"
   ]
  },
  {
   "cell_type": "code",
   "execution_count": null,
   "metadata": {},
   "outputs": [],
   "source": [
    "# Insert an element into big_list\n",
    "# First argument is the location where to insert, second is the item to insert\n",
    "big_list.insert(0, 'I am first')\n",
    "print(big_list)"
   ]
  },
  {
   "cell_type": "code",
   "execution_count": null,
   "metadata": {},
   "outputs": [],
   "source": [
    "# Try inserting somewhere in the middle\n",
    "# First how many elements in big_list\n",
    "total_elements = len(big_list)\n",
    "print(f'There are {total_elements} elements in big_list')"
   ]
  },
  {
   "cell_type": "code",
   "execution_count": null,
   "metadata": {},
   "outputs": [],
   "source": [
    "# Put a new element \"close to the middle\"\n",
    "# Using integer division so I don't get an error later\n",
    "insert_point = total_elements // 2\n",
    "print(f'Trying insert point at index {insert_point}')\n",
    "\n",
    "# Insert 'Look at me!' at the insert_point\n",
    "big_list.insert(insert_point, 'Look at me!')\n",
    "print(big_list)\n",
    "print(f'There are now {len(big_list)} elements in big_list')"
   ]
  },
  {
   "cell_type": "code",
   "execution_count": null,
   "metadata": {},
   "outputs": [],
   "source": [
    "# Count how many times the number 4 is in big_list\n",
    "print(f'The number 4 shows up {big_list.count(4)} times in big_list')"
   ]
  },
  {
   "cell_type": "code",
   "execution_count": null,
   "metadata": {},
   "outputs": [],
   "source": [
    "# Count how many times the string '4' is in big_list\n",
    "print(f'The string \"4\" shows up {big_list.count(\"4\")} times in big_list')"
   ]
  },
  {
   "cell_type": "markdown",
   "metadata": {},
   "source": [
    "### Reversing a `list`\n",
    "There are several ways to reverse the elements in a list. The function `.reverse()` will reverse the elements **in-place**. That is, you will change the order of the original list. Sometimes this functionality is what you want and sometimes not so much. There is also the built-in function called `reversed()` that can be used with any sequence or class that implements the `__reverse()__` method. Additionally, you can manually reverse a sequence using slicing. Let's look at each way."
   ]
  },
  {
   "cell_type": "code",
   "execution_count": null,
   "metadata": {},
   "outputs": [],
   "source": [
    "# In place will change the order of the original variable\n",
    "print(f'my_new_list is {my_new_list} before')\n",
    "my_new_list.reverse()\n",
    "print(f'my_new_list is {my_new_list} after calling my_new_list.reverse()')"
   ]
  },
  {
   "cell_type": "code",
   "execution_count": null,
   "metadata": {},
   "outputs": [],
   "source": [
    "# Let's put it back to the original order and try another approach\n",
    "my_new_list.reverse()\n",
    "print(f'my_new_list is {my_new_list}')"
   ]
  },
  {
   "cell_type": "code",
   "execution_count": null,
   "metadata": {},
   "outputs": [],
   "source": [
    "# Try the built-in function reversed(my_new_list)\n",
    "reversed(my_new_list)"
   ]
  },
  {
   "cell_type": "markdown",
   "metadata": {},
   "source": [
    "Well that's interesting. It gave us back an **iterator**. What we can do is use that returned object to create a list and then print out that new list to see what it looks like."
   ]
  },
  {
   "cell_type": "code",
   "execution_count": null,
   "metadata": {},
   "outputs": [],
   "source": [
    "print(f'my_new_list is {my_new_list}')\n",
    "\n",
    "# create a new variable called r_list to hold the reversed list\n",
    "r_list = list(reversed(my_new_list))\n",
    "print(f'r_list is {r_list}')\n",
    "print(f'my_new_list is {my_new_list}')"
   ]
  },
  {
   "cell_type": "markdown",
   "metadata": {},
   "source": [
    "We can also reverse a list through slicing. Remember that the syntax for slicing is `list_name[start_index:stop_index:step_size]` and the ending index is **exclusive**. Reversing the entire list is very simple with list slicing, so let's try it."
   ]
  },
  {
   "cell_type": "code",
   "execution_count": null,
   "metadata": {},
   "outputs": [],
   "source": [
    "# Using list slicing to reverse a list\n",
    "print(f'Before: my_new_list is {my_new_list}')\n",
    "\n",
    "# Reverse my_new_list and put in a variable\n",
    "r_list2 = my_new_list[::-1]\n",
    "print(f'With list slicing: {r_list2}')\n",
    "print(f'After : my_new_list is {my_new_list}')"
   ]
  },
  {
   "cell_type": "markdown",
   "metadata": {},
   "source": [
    "-----\n",
    "\n",
    "<font color='red' size = '5'> Student Exercise </font>\n",
    "\n",
    "The code cell below contains the variable `the_list`. Be sure to run it before completing the following tasks in the empty **Code** cells below.\n",
    "  \n",
    "1. Print out the first 2 elements of `the_list`.\n",
    "2. Print out the last 2 elements of `the_list` **in the order they appear**.\n",
    "3. Make a copy of the `the_list`, call it `reversed_list`, reverse the elements of it, and print it out.\n",
    "    1. Make sure you do **not** change the order of the original `the_list`.\n",
    "4. Print out the combined list of `the_list` and `reversed_list`.\n",
    "\n",
    "-----"
   ]
  },
  {
   "cell_type": "code",
   "execution_count": null,
   "metadata": {},
   "outputs": [],
   "source": [
    "# Be sure to run this line of code before trying to complete the tasks\n",
    "the_list = [1, 3, 5, 7, 9]"
   ]
  },
  {
   "cell_type": "code",
   "execution_count": null,
   "metadata": {},
   "outputs": [],
   "source": [
    "# 1. Print out the first 2 elements of the_list\n"
   ]
  },
  {
   "cell_type": "code",
   "execution_count": null,
   "metadata": {},
   "outputs": [],
   "source": [
    "# 2. Print out the last 2 elements of the_list in the order they appear\n"
   ]
  },
  {
   "cell_type": "code",
   "execution_count": null,
   "metadata": {},
   "outputs": [],
   "source": [
    "# 3. Make a copy of the_list called reversed_list where the elements are reversed\n"
   ]
  },
  {
   "cell_type": "code",
   "execution_count": null,
   "metadata": {},
   "outputs": [],
   "source": [
    "# 4. Print out the combined list of the_list and reversed_list\n"
   ]
  },
  {
   "cell_type": "markdown",
   "metadata": {},
   "source": [
    "<hr style=\"border:1px solid gray\">\n",
    "\n",
    "## Tuples\n",
    "\n",
    "A `tuple` is a collection that is ordered and *immutable*. Creating a `tuple` is very similar to creating a `list` except you use parentheses, `()`, instead of square brackets, `[]`. The process of accessing elements of a `tuple` is identical to that of a `list`. You need to be aware of `tuple`s because some functions either return them or require them in various packages/modules that you will encounter. Let's try it."
   ]
  },
  {
   "cell_type": "code",
   "execution_count": null,
   "metadata": {},
   "outputs": [],
   "source": [
    "# Create a tuple\n",
    "t = (1, 2, 3)\n",
    "print(t)\n",
    "print(type(t))"
   ]
  },
  {
   "cell_type": "code",
   "execution_count": null,
   "metadata": {},
   "outputs": [],
   "source": [
    "# Get the first element of the tuple t\n",
    "print(t[0])"
   ]
  },
  {
   "cell_type": "code",
   "execution_count": null,
   "metadata": {},
   "outputs": [],
   "source": [
    "# Try to change the first element\n",
    "t[0] = 999"
   ]
  },
  {
   "cell_type": "markdown",
   "metadata": {},
   "source": [
    "You can also create a tuple by sending values separated by a commas. See below for an example."
   ]
  },
  {
   "cell_type": "code",
   "execution_count": null,
   "metadata": {},
   "outputs": [],
   "source": [
    "t2 = 4, 5, 6\n",
    "print(t2)\n",
    "print(type(t2))"
   ]
  },
  {
   "cell_type": "markdown",
   "metadata": {},
   "source": [
    "#### Sequence Unpacking\n",
    "\n",
    "As mentioned earlier, `tuple`s are commonly returned from a function. You will often want to **unpack** the tuple into separate variables for tasks later in your program/code. In fact, you can unpack any sequence data type. **CAUTION:** Sequence unpacking requires that there are as many variables on the left hand side as there are elements in the sequence. Let's take a look at a few examples."
   ]
  },
  {
   "cell_type": "code",
   "execution_count": null,
   "metadata": {},
   "outputs": [],
   "source": [
    "# Unpack the tuple t\n",
    "# First how many elements\n",
    "print(len(t))"
   ]
  },
  {
   "cell_type": "code",
   "execution_count": null,
   "metadata": {},
   "outputs": [],
   "source": [
    "# Okay, so we need 3 variables on LHS of = sign\n",
    "var1, var2, var3 = t\n",
    "print(f'var1 is {var1}')\n",
    "print(f'var2 is {var2}')\n",
    "print(f'var3 is {var3}')"
   ]
  },
  {
   "cell_type": "code",
   "execution_count": null,
   "metadata": {},
   "outputs": [],
   "source": [
    "# What happens if LHS is incorrect number\n",
    "var4, var5 = t"
   ]
  },
  {
   "cell_type": "code",
   "execution_count": null,
   "metadata": {},
   "outputs": [],
   "source": [
    "# Can we unpack a string?\n",
    "x, y, z = 'big'\n",
    "print(f'x is {x}')\n",
    "print(f'y is {y}')\n",
    "print(f'z is {z}')"
   ]
  },
  {
   "cell_type": "markdown",
   "metadata": {},
   "source": [
    "<hr style=\"border:1px solid gray\">\n",
    "\n",
    "## Range\n",
    "\n",
    "A `range` represents an immutable sequence of numbers and is commonly used to loop or iterate a specific number of times in a `for` loop. (We will have lots of fun with looping in a future module.) You call `range(stop)` where `stop` represents the number of elements you want in the sequence. By default `range` starts indexing at 0. You can change this behavior using the other constructor call of `range(start, stop, [step])`. The optional argument of `step` defaults to 1."
   ]
  },
  {
   "cell_type": "code",
   "execution_count": null,
   "metadata": {},
   "outputs": [],
   "source": [
    "# Call a few different ones to see how it works\n",
    "print(range(10))"
   ]
  },
  {
   "cell_type": "code",
   "execution_count": null,
   "metadata": {},
   "outputs": [],
   "source": [
    "# Okay, that didn't tell me much\n",
    "# Let's wrap it in a list and then print it out\n",
    "print(list(range(10)))"
   ]
  },
  {
   "cell_type": "code",
   "execution_count": null,
   "metadata": {},
   "outputs": [],
   "source": [
    "# Change start to 1 ... notice stop is EXCLUSIVE\n",
    "print(list(range(1, 10)))"
   ]
  },
  {
   "cell_type": "code",
   "execution_count": null,
   "metadata": {},
   "outputs": [],
   "source": [
    "# Count by 2s starting at 2 and going up to and INCLUDING 10\n",
    "print(list(range(2, 11, 2)))"
   ]
  },
  {
   "cell_type": "markdown",
   "metadata": {},
   "source": [
    "-----\n",
    "\n",
    "<font color='red' size = '5'> Student Exercise </font>\n",
    "\n",
    "Complete the following tasks in the empty **Code** cells below.\n",
    "\n",
    "1. Create a new `list` called `odd_nums` that contains the odd numbers from 1 to 9 (inclusively) using `range`.\n",
    "2. Create a new `list` called `every_fifth` that contains numbers divisible by 5 starting with 5 and going up to and including 50 using a `range`.\n",
    "3. Create a `tuple` called `my_tuple` that contains the elements 'one', 2, 7.12\n",
    "4. Unpack `my_tuple` into three variables `my_var1`, `my_var2`, and `my_var3`. Print each out along with their type.\n",
    "\n",
    "-----"
   ]
  },
  {
   "cell_type": "code",
   "execution_count": null,
   "metadata": {},
   "outputs": [],
   "source": [
    "# 1. Create a list called odd_nums with odd numbers from 1 to 9 (inclusively) using range\n"
   ]
  },
  {
   "cell_type": "code",
   "execution_count": null,
   "metadata": {},
   "outputs": [],
   "source": [
    "# 2. Create a list called every_fifth that contains numbers divisible by 5 from 5 to 50 (inclusively) using range\n"
   ]
  },
  {
   "cell_type": "code",
   "execution_count": null,
   "metadata": {},
   "outputs": [],
   "source": [
    "# 3. Create a tuple called my_tuple with elements 'one', 2, and 7.12\n"
   ]
  },
  {
   "cell_type": "code",
   "execution_count": null,
   "metadata": {},
   "outputs": [],
   "source": [
    "# 4. Unpack `my_tuple` into three variables `my_var1`, `my_var2`, and `my_var3`.\n",
    "# Print each out along with their type.\n"
   ]
  },
  {
   "cell_type": "markdown",
   "metadata": {},
   "source": [
    "\n",
    "<hr style=\"border:1px solid gray\">\n",
    "\n",
    "## More Sequence Slicing\n",
    "\n",
    "Retrieving elements from a list is an important skill, so let's practice it some more."
   ]
  },
  {
   "cell_type": "code",
   "execution_count": null,
   "metadata": {},
   "outputs": [],
   "source": [
    "# Define a few lists\n",
    "a = [[1.1,2.2,3.3,4.4],[55,66,77,88],[99, 111, 122, 133]]\n",
    "b = [0,[1,2],[3,4,5],[6,7,8,9]]\n",
    "c = [['hello', 'world'], ['yellow', 'bird'], ['help', 'send']]\n",
    "d = [0,1,2,3,4,5,6,7,8,9]"
   ]
  },
  {
   "cell_type": "code",
   "execution_count": null,
   "metadata": {},
   "outputs": [],
   "source": [
    "# How do you get the value 77 from list a?\n",
    "a[1][2]"
   ]
  },
  {
   "cell_type": "code",
   "execution_count": null,
   "metadata": {},
   "outputs": [],
   "source": [
    "# How do you get the value 6 from list b?\n",
    "b[3][0]"
   ]
  },
  {
   "cell_type": "code",
   "execution_count": null,
   "metadata": {},
   "outputs": [],
   "source": [
    "# What does c[1][1] return?\n",
    "c[1][1]"
   ]
  },
  {
   "cell_type": "code",
   "execution_count": null,
   "metadata": {},
   "outputs": [],
   "source": [
    "# What will len(a[2]) return?\n",
    "len(a[2])"
   ]
  },
  {
   "cell_type": "code",
   "execution_count": null,
   "metadata": {},
   "outputs": [],
   "source": [
    "# What will len(a) return?\n",
    "len(a)"
   ]
  },
  {
   "cell_type": "code",
   "execution_count": null,
   "metadata": {},
   "outputs": [],
   "source": [
    "# How do you get back this list: [5,6,7]?\n",
    "d[5:8]"
   ]
  },
  {
   "cell_type": "code",
   "execution_count": null,
   "metadata": {},
   "outputs": [],
   "source": [
    "# What if you want to use a negative stop index?\n",
    "d[5:-2]"
   ]
  },
  {
   "cell_type": "markdown",
   "metadata": {},
   "source": [
    "-----\n",
    "\n",
    "<font color='red' size = '5'> Student Exercise </font>\n",
    "\n",
    "Using the lists defined above, complete the following tasks in the empty **Code** cells below.\n",
    "\n",
    "1. Use list slicing to return the word 'world'.\n",
    "2. Use list slicing to return the number 122.\n",
    "3. How many elements are in the fourth member of list `b`?\n",
    "4. Use list slicing to return the list [66,88]\n",
    "\n",
    "-----"
   ]
  },
  {
   "cell_type": "code",
   "execution_count": null,
   "metadata": {},
   "outputs": [],
   "source": [
    "# 1. Use list slicing to return the word 'world'.\n"
   ]
  },
  {
   "cell_type": "code",
   "execution_count": null,
   "metadata": {},
   "outputs": [],
   "source": [
    "# 2. Use list slicing to return the number 122.\n"
   ]
  },
  {
   "cell_type": "code",
   "execution_count": null,
   "metadata": {},
   "outputs": [],
   "source": [
    "# 3. How many elements are in the fourth member of list `b`?\n"
   ]
  },
  {
   "cell_type": "code",
   "execution_count": null,
   "metadata": {},
   "outputs": [],
   "source": [
    "# 4. Use list slicing to return the list [66,88]\n"
   ]
  },
  {
   "cell_type": "markdown",
   "metadata": {},
   "source": [
    "\n",
    "-----\n",
    "\n",
    "## Ancillary Information\n",
    "\n",
    "The following links point you to additional resources that you might find helpful in learning this material. \n",
    "\n",
    "- The official Python tutorial about [data structures][1].\n",
    "\n",
    "\n",
    "-----\n",
    "\n",
    "[1]: https://docs.python.org/3/tutorial/datastructures.html"
   ]
  },
  {
   "cell_type": "markdown",
   "metadata": {
    "deletable": false,
    "editable": false
   },
   "source": [
    "**&copy; 2022 - Present: Matthew D. Dean, Ph.D.   \n",
    "Clinical Associate Professor of Business Analytics at William \\& Mary.**"
   ]
  }
 ],
 "metadata": {
  "kernelspec": {
   "display_name": "Python 3 (ipykernel)",
   "language": "python",
   "name": "python3"
  },
  "language_info": {
   "codemirror_mode": {
    "name": "ipython",
    "version": 3
   },
   "file_extension": ".py",
   "mimetype": "text/x-python",
   "name": "python",
   "nbconvert_exporter": "python",
   "pygments_lexer": "ipython3",
   "version": "3.8.8"
  }
 },
 "nbformat": 4,
 "nbformat_minor": 4
}
