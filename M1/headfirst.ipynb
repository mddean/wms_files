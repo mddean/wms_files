{
 "cells": [
  {
   "cell_type": "markdown",
   "metadata": {},
   "source": [
    "# Introduction to Python\n",
    "----"
   ]
  },
  {
   "cell_type": "markdown",
   "metadata": {},
   "source": [
    "## Why Python\n",
    "\n",
    "[Python][1] is an open-source, high-level, general purpose programming language that was originally developed by [Guido van Rossum][gv]. [What this means][2] is that anyone can view (and optionally make contributions to) the actual language implementation, the language simplifies many tasks for the programmer (especially when compared to other programming languages like C or Java), and Python programs can easily be developed to tackle a wide range of problems including network communication, scientific calculations, data processing and archiving tasks, and graphical tool development. In addition, the syntax and form of the Python programming language are designed to allow Python programs to be quickly developed, reducing development time and costs along with maintenance costs, since a well-written Python program is easy to comprehend.\n",
    "\n",
    "![Python logo](https://www.python.org/static/community_logos/python-logo-master-v3-TM.png)\n",
    "\n",
    "A large number of Python modules, which extend the base programming language, have been developed and are now widely used to simply the development of new Python programs.Thse modules can be broadly classified into three types. The first type are commonly used modules that are part of the official Python distribution, known as the [standard library][sl], such as the [`math`][i], [`os.path`][ii], [`pickle`][ip], [`sqlite3`][sql], [`bz2`][iii], or [`csv`][iv] modules. The second type are modules that are also commonly used, but not (yet) part of the official standard library. Relevant example modules of this type are the [`numpy`][np], [`pandas`][pd], [`matplotlib`][mp], or [`scipy`][sp] modules. The last type of module is developed by communities for a special purpose that are currently less commonly used (but this may change in time). These include modules like [`seaborn`][sb], [`statsmodels`][sm], or [`nltk`][nl]. Of course, any developer can write a Python module, thus offering a wide array of possible add-on functionality. Using these modules, however, should be carefully balanced with the importance of minimizing software dependencies, which can reduce development and maintenance issues for software engineers.\n",
    "\n",
    "-----\n",
    "\n",
    "[gv]: https://www.python.org/~guido/\n",
    "[i]: https://docs.python.org/3/library/math.html\n",
    "[ii]: https://docs.python.org/3/library/os.path.html\n",
    "[iii]: https://docs.python.org/3/library/bz2.html\n",
    "[iv]: https://docs.python.org/3/library/csv.html\n",
    "[ip]: https://docs.python.org/3/library/pickle.html\n",
    "[sl]: https://docs.python.org/3/library/\n",
    "[sql]: https://docs.python.org/3/library/sqlite3.html\n",
    "[np]: http://www.numpy.org\n",
    "[mp]: http://matplotlib.org\n",
    "[pd]: http://pandas.pydata.org\n",
    "[sp]: http://www.scipy.org\n",
    "[sb]: http://web.stanford.edu/~mwaskom/software/seaborn/index.html\n",
    "[sm]: http://statsmodels.sourceforge.net\n",
    "[nl]: http://www.nltk.org\n",
    "[1]: https://www.python.org\n",
    "[2]: https://en.wikipedia.org/wiki/Python_(programming_language)"
   ]
  },
  {
   "cell_type": "markdown",
   "metadata": {},
   "source": [
    "### Python History\n",
    "\n",
    "Python is maintained by the Python Software Foundation and currently comes in [two versions][3]: Python 2 and Python 3. Sometime around the turn of the millennium, Python developers began to consider improvements to the Python language that might produce incompatibilities with the existing Python language. One such change, introduced with Python 3, is that the Python programming language is now consistently object-oriented, meaning everything in a Python program or script is now an *object*. These changes were considered necessary for the language to continue to grow and develop. The development of this new version, originally entitled Python 3000 or Python 3K, now shortened to just Python 3 (and even sometimes Python3), took a number of years as new ideas were carefully developed and tested, and to provide sufficient time for the existing community to participate in the progression of the Python language.\n",
    "\n",
    "Now, over 30 years later, Python 3 is an improved version of the original Python language and offers a number of [important advances][4]. Thus, Python 2 is primarily used to maintain backwards compatibility with legacy Python codes that are too difficult or expensive to port to the newer version. **In this class, we will exclusively use Python 3** since it represents the present and the future, and all libraries we will use have already been successfully ported to the new version. As you browse different websites, IPython notebooks, or other resources, you should keep this language split in mind, focusing primarily on Python 3 material to minimize confusion arising from these language differences. \n",
    "\n",
    "-----\n",
    "\n",
    "The following code block, when executed, displays what is often called the Python Zen.\n",
    "\n",
    "-----\n",
    "[3]: https://wiki.python.org/moin/Python2orPython3\n",
    "[4]: https://docs.python.org/3.0/whatsnew/3.0.html"
   ]
  },
  {
   "cell_type": "code",
   "execution_count": null,
   "metadata": {},
   "outputs": [],
   "source": [
    "import this"
   ]
  },
  {
   "cell_type": "markdown",
   "metadata": {},
   "source": [
    "## Basic Concepts\n",
    "\n",
    "While Python is a relatively easy language to learn, there are a few basic concepts that need to be reviewed before we begin to discuss the Python programming language. A fundamental concept to remember is that good Python code should be easy to read. To help programmers adhere to this concept, Python has the following guidelines:\n",
    "\n",
    "1. White space is important.\n",
    "2. Names should be descriptive.\n",
    "3. Code blocks are indented four spaces (not hard tabs) and follow a colon.\n",
    "4. Lines of code should be limited to 80 characters or less.\n",
    "5. Good code should be thoroughly documented with both comments and descriptive documentation strings.\n",
    "\n",
    "If lines need to be longer than 80 characters, the recommended practice is to use parentheses to group operations and use suitable indentation to maintain readability. In the event that this is insufficient, a line continuation character (backslash), `\\`, can be used to allow code to extend over as many lines as necessary. If that sounds confusing, don't worry, you will see examples demonstrating this repeatedly in this course.\n",
    "\n",
    "Python supports [REPL](https://en.wikipedia.org/wiki/Read–eval–print_loop) (Read-Eval-Print Loop), allowing a developer to write, run, and test code iteratively, which aids in quickly developing new programs. Python is also Unicode compliant, so character coding can be specified (for example, UTF-8) at the start of a program (or in string literals), allowing a wider range of characters to be used to write descriptive text.\n",
    "\n",
    "### Fundamentals to Keep in Mind\n",
    "\n",
    "1. Python executes code one line at a time.\n",
    "2. Python is case-sensitive.\n",
    "3. Python uses indentation to group statements (see 3. above)."
   ]
  },
  {
   "cell_type": "markdown",
   "metadata": {},
   "source": [
    "### Python Identifiers\n",
    "\n",
    "A Python identifier is a name that is composed of a sequence of letters, numbers, and underscore characters that must adhere to the following rules:\n",
    "\n",
    "1. The first character must be a letter or an underscore character.\n",
    "2. Variable and Function names traditionally start with a lowercase letter.\n",
    "3. Classes traditionally start with an uppercase letter.\n",
    "4. The identifier cannot be one of the reserved Python keywords, listed in the code block below.\n",
    "\n",
    "While not explicitly prevented, it is also recommended to avoid names of objects from common Python libraries to minimize name collisions and any resultant confusion. \n",
    "\n",
    "In this notebook, we will discuss variables, demonstrate how to use them effectively in a Python program, and use several built-in functions. A variable is simply a name that refers to something else, like a number or a string of characters. In a future lesson we will discuss functions in more depth. For now, consider a function as a chunk of code, wrapped in a name that does something. A classic example is a math function like the `sin` function or a more general function like `print`, which displays text to the screen.\n",
    "\n",
    "In the following Code cell, we use the built-in `help` function to display the list of Python keywords. These names are reserved and cannot be used as the name of a variable or function.\n",
    "\n",
    "----"
   ]
  },
  {
   "cell_type": "code",
   "execution_count": null,
   "metadata": {},
   "outputs": [],
   "source": [
    "# This is a comment\n",
    "# Display Python3 keywords\n",
    "\n",
    "help('keywords')"
   ]
  },
  {
   "cell_type": "markdown",
   "metadata": {},
   "source": [
    "-----\n",
    "\n",
    "A Python identifier can be used as the name of a variable, function, class, or module. Python identifiers are case sensitive, so `mylist` is different than `myList`. Writing descriptive identifiers can be beneficial for code readability and subsequent maintenance, thus we often write multi-word identifiers. When combining words, we can either use camel-case format, where each word after the first is capitalized like `myFileList`, or we can separate words by using underscores like `my_file_list`.  While both approaches are legal, it is best to be consistent as much as possible. Your variable naming convention depends on many personal preferences and/or biases. For example, I prefer camel-case because my first real programming jobs were done in Java where that is the de-facto standard.\n",
    "\n",
    "The Python Enhancement Proposal (abbreviated as PEP), [PEP-8](http://legacy.python.org/dev/peps/pep-0008/#introduction), provides a complete discussion of recommended best practices when writing Python code.\n",
    "\n",
    "### Documentation\n",
    "\n",
    "The primary mechanism for documenting Python code is using comments. Python supports two types of comment strings. The first type is a single-line comment, which begins with the hash or pound character `#` and continues until the end of the line; the `#` character can appear anywhere on the line. You can create large comment blocks by placing single-line comments adjacent to each other in a Python program. Here are a several examples of single-line comments; the first comment consists of the entire line, and the second comment extends from the preceding command to the end of that line. \n",
    "\n",
    "```python   \n",
    "# Calculate the hypotenuse of a triangle\n",
    "c = math.sqrt(a**2 + b**2) # Assuming Euclidean Geometry\n",
    "```\n",
    "\n",
    "The second type of comment is a multi-line comment, which begins and ends with either three single quote characters,  `''' comment text '''`, or three double quote characters, `\"\"\" comment text \"\"\"`. This comment can easily extend over multiple lines and is, therefore, used in a Python program to provide documentation via an implicit docstring for functions and classes. Here is an example of a multi-line comment string:\n",
    "\n",
    "```python   \n",
    "\n",
    "'''\n",
    "This multi-line comment can provide useful information\n",
    "for a function, class, or module.\n",
    "\n",
    "This also allows whitespace to be used to help\n",
    "write more clearly.\n",
    "'''\n",
    "```\n",
    "\n",
    "The built-in `help`  function can be used to view *docstring* comments for different functions, classes, or other Python features, as shown in the following code block. As the adjacent comment suggests, you should execute this function then try changing the input argument to view documentation for other Python language components like `int`, `complex`, `math`, or `list`.\n",
    "\n",
    "Another frequently used built-in function is the `print` function. This function, if necessary, converts its arguments to a string and displays the resulting string to *STDOUT*, which is generally the display. We will discuss functions, like the `print` function, in more detail later.\n",
    "\n",
    "-----"
   ]
  },
  {
   "cell_type": "code",
   "execution_count": null,
   "metadata": {},
   "outputs": [],
   "source": [
    "# First, run the following line of code\n",
    "help(print) # Then, try changing print to something different like int, math, or list"
   ]
  },
  {
   "cell_type": "code",
   "execution_count": null,
   "metadata": {},
   "outputs": [],
   "source": [
    "# Let's create a few different variables and assign them values\n",
    "# A variable to hold a string\n",
    "my_first_var = 'How cool is this?'\n",
    "\n",
    "print(my_first_var)"
   ]
  },
  {
   "cell_type": "code",
   "execution_count": null,
   "metadata": {},
   "outputs": [],
   "source": [
    "# another variable to hold an integer - the meaning of life\n",
    "my_second_var = 42\n",
    "\n",
    "print(my_second_var)"
   ]
  },
  {
   "cell_type": "markdown",
   "metadata": {},
   "source": [
    "-----\n",
    "\n",
    "<font color='red' size = '5'> Student Exercise </font>\n",
    "\n",
    "In the empty **Code** cells below:\n",
    "\n",
    "1. Write a simple Python comment.\n",
    "2. Write a multi-line comment.\n",
    "3. Use the `help` command to display the built-in documentation for the `dict` and `str` classes.\n",
    "4. Create a variable named `my_third_var`, assign it the number 0.1111111, and print out the variable.\n",
    "\n",
    "-----"
   ]
  },
  {
   "cell_type": "code",
   "execution_count": null,
   "metadata": {},
   "outputs": [],
   "source": [
    "# 1. Add another simple comment to this code cell and run the cell\n"
   ]
  },
  {
   "cell_type": "code",
   "execution_count": null,
   "metadata": {},
   "outputs": [],
   "source": [
    "# 2. Add a multi-line comment to this code cell\n"
   ]
  },
  {
   "cell_type": "code",
   "execution_count": null,
   "metadata": {
    "tags": []
   },
   "outputs": [],
   "source": [
    "# 3. Use the help() command to disply the built-in documentation for:\n",
    "#    a. the dict class\n",
    "#    b. the str class\n"
   ]
  },
  {
   "cell_type": "code",
   "execution_count": null,
   "metadata": {},
   "outputs": [],
   "source": [
    "# 4. Create a variable named my_third_var and assign it the value 1/9\n",
    "#    and then print it out\n"
   ]
  },
  {
   "cell_type": "markdown",
   "metadata": {},
   "source": [
    "-----\n",
    "\n",
    "## Data Types\n",
    "\n",
    "Python supports several standard data types including integer, floating-point, and character data, or a string of characters (we will discuss this data type in more detail later). Python is a dynamically-typed language, meaning we do not need to **declare** the data type for a variable. Instead, the Python interpreter determines the data type for a variable by the type of data the variable holds. For example, if a variable holds an integer number like 1, 2, 3, or -10, the variable is of type `int`. Likewise, if the variable contains a real number like 3.14, the variable is of type `float`, which is shorthand for floating-point.\n",
    "\n",
    "The Python language has two other special data types. The first is a Boolean type, which can take one of two special values: `True` or `False`. We will explore the Boolean data type in more detail later. The second is a special type to indicate a null value, encoded as `None` in Python.\n",
    "\n",
    "In the following Code cells, we demonstrate how Python handles these basic data types. Remember to make changes and rerun these cells to better understand the Python type system.\n",
    "\n",
    "-----"
   ]
  },
  {
   "cell_type": "code",
   "execution_count": null,
   "metadata": {},
   "outputs": [],
   "source": [
    "# An integer value\n",
    "x = 1\n",
    "print(type(x))"
   ]
  },
  {
   "cell_type": "code",
   "execution_count": null,
   "metadata": {},
   "outputs": [],
   "source": [
    "# A floating-point value\n",
    "pi = 3.14159\n",
    "print(type(pi))"
   ]
  },
  {
   "cell_type": "code",
   "execution_count": null,
   "metadata": {},
   "outputs": [],
   "source": [
    "# A string of characters\n",
    "my_string = 'Hello!'\n",
    "print(type(my_string))"
   ]
  },
  {
   "cell_type": "code",
   "execution_count": null,
   "metadata": {},
   "outputs": [],
   "source": [
    "# A Boolean value\n",
    "y = True\n",
    "print(type(y))"
   ]
  },
  {
   "cell_type": "code",
   "execution_count": null,
   "metadata": {},
   "outputs": [],
   "source": [
    "# A None value\n",
    "z = None\n",
    "print(type(z))"
   ]
  },
  {
   "cell_type": "code",
   "execution_count": null,
   "metadata": {},
   "outputs": [],
   "source": [
    "# What happens if we call type() on a built-in function like print?\n",
    "print(type(print))\n",
    "\n",
    "# After running that line of code, come back and change print to\n",
    "# something else, like math or \"Howdy, y'all!\""
   ]
  },
  {
   "cell_type": "markdown",
   "metadata": {},
   "source": [
    "----\n",
    "\n",
    "### Python Operators\n",
    "\n",
    "Python supports the [basic mathematical operators][1]. The following list presents these basic mathematical operators in order of precedence (operators in the same table cell have the same precedence):\n",
    "\n",
    "| Operator                         | Description                              | Example                                  |\n",
    "| -------------------------------- | ---------------------------------------- | ---------------------------------------- |\n",
    "| `()`                             | Parentheses for grouping                 | `(2 + 3)`                                |\n",
    "| `**`                             | Exponential function                     | `2**3`                                   |\n",
    "| `*`<br/> `/`<br/> `//` <br/> `%` | Multiplication<br/> Division<br/>Integer Division<br/> Remainder | `2*3.1` <br/> `3.2 / 1.2 ` <br/> `5//2` <br/> `5%2` |\n",
    "| `+` <br/> `-`                    | Addition <br/> Subtraction               | `1.45 + 3.14` <br/> `5.3 - 2.125`        |\n",
    "\n",
    "\n",
    "When computing a quantity, you often will want to assign the value to a variable. This is done by using the assignment operator `=`. On the other hand, if you want to test whether two values are the same, you use the equivalence operator, `==`. In addition, Python provides augmented assignment operators that combine a basic mathematical operator (`+`, `-`, `*`, `/`, `**`, `//`, or `%`) with the assignment operator: `+=`, `-=`, `*=`, `/=`, `**=`, `//=`, and `%=`; this can simplify and, thus, clarify some expressions. As a simple example of an augmented assignment operator, the following Python expressions are equivalent:\n",
    "\n",
    "```python\n",
    "a = a + 1\n",
    "a += 1\n",
    "```\n",
    "\n",
    "In the preceding example code, we have introduced the use of variables to hold the result of a calculation. Because Python is a dynamically-typed language, we do not need to declare the variable and its type before using it. If the variable is reused and assigned a different value, the variable takes on a new type. Python has a built-in `type` function that can always be used to ascertain the underlying data type of a variable or any other legal Python construct, as shown in the previous Code cells.\n",
    "\n",
    "-----\n",
    "[1]: https://en.wikibooks.org/wiki/Python_Programming/Basic_Math"
   ]
  },
  {
   "cell_type": "markdown",
   "metadata": {},
   "source": [
    "<font color='red' size = '5'> Student Exercise </font>\n",
    "\n",
    "In the empty **Code** cell below, write a simple Python script to calculate the number of minutes in one week. Use a variable to hold the calculation and print the answer within this notebook.\n",
    "\n",
    "-----"
   ]
  },
  {
   "cell_type": "code",
   "execution_count": null,
   "metadata": {},
   "outputs": [],
   "source": [
    "# Use a variable to hold the number of minutes in a week and print it\n"
   ]
  },
  {
   "cell_type": "markdown",
   "metadata": {},
   "source": [
    "-----\n",
    "\n",
    "Python also supports other operators that are used when working with [Boolean][1] data or to perform [bit-wise operations][2]. For conciseness, we do not discuss these operators in this notebook.\n",
    "\n",
    "In the next set of Code cells, we present several examples demonstrating how to use the basic Python mathematical operators to compute different expressions. **These blocks are meant to be executed, modified, and re-executed!**\n",
    "\n",
    "\n",
    "-----\n",
    "\n",
    "[1]: https://en.wikibooks.org/wiki/Python_Programming/Operators#Boolean\n",
    "[2]: https://wiki.python.org/moin/BitwiseOperators"
   ]
  },
  {
   "cell_type": "code",
   "execution_count": null,
   "metadata": {},
   "outputs": [],
   "source": [
    "# Division - Make a note of the resulting value!\n",
    "4 / 2"
   ]
  },
  {
   "cell_type": "code",
   "execution_count": null,
   "metadata": {},
   "outputs": [],
   "source": [
    "# Division again\n",
    "5 / 2"
   ]
  },
  {
   "cell_type": "code",
   "execution_count": null,
   "metadata": {},
   "outputs": [],
   "source": [
    "# If we want to do integer division we use // instead\n",
    "5 // 2"
   ]
  },
  {
   "cell_type": "code",
   "execution_count": null,
   "metadata": {},
   "outputs": [],
   "source": [
    "# And to get just the remainder\n",
    "5 % 2"
   ]
  },
  {
   "cell_type": "code",
   "execution_count": null,
   "metadata": {},
   "outputs": [],
   "source": [
    "# Using PEMDAS, what will be the result?\n",
    "2.5 * 4 / 2 * (2 + 3 + 5) - 3**3"
   ]
  },
  {
   "cell_type": "markdown",
   "metadata": {},
   "source": [
    "<hr style=\"border:1px solid gray\">\n",
    "\n",
    "# Getting Input from the User\n",
    "\n",
    "One of the most basic concepts in computer programming is how the user, a human, interacts with the program/code. Programs need an input to do some processing and provide an output. Sometimes you need input from a human in an interactive fashion. This is easily accomplished in Python with the built-in function `input()` which receives input from the keyboard. Let's look at a few examples."
   ]
  },
  {
   "cell_type": "code",
   "execution_count": null,
   "metadata": {},
   "outputs": [],
   "source": [
    "# Ask the user for input from the keyboard\n",
    "# Make note of what happens after something is entered\n",
    "input('Enter a number:')"
   ]
  },
  {
   "cell_type": "code",
   "execution_count": null,
   "metadata": {},
   "outputs": [],
   "source": [
    "# Ask the user for input and store it in a variable\n",
    "from_user = input('Enter a number:')\n",
    "print('from_user is', from_user)\n",
    "print('  and it has type', type(from_user))"
   ]
  },
  {
   "cell_type": "markdown",
   "metadata": {},
   "source": [
    "### String Returned\n",
    "Notice that the returned data type is a string. This will **always be true** when using the `input()` function. What this means is that if you want to do any mathematical calculations, you will have to convert the string to a numerical data type. Let's ask the user for the current temperature in degrees Fahrenheit and then try to convert it to degrees Celsius. Recall that the formula to do so is:\n",
    "\n",
    "$$\n",
    "(F^{\\circ} - 32) \\times \\frac{5}{9}\n",
    "$$"
   ]
  },
  {
   "cell_type": "code",
   "execution_count": null,
   "metadata": {},
   "outputs": [],
   "source": [
    "# Store the user input in variable called response\n",
    "response = input('Enter the current degrees in Fahrenheit: ')"
   ]
  },
  {
   "cell_type": "code",
   "execution_count": null,
   "metadata": {},
   "outputs": [],
   "source": [
    "# Convert response to a numerical data type and do the conversion\n",
    "celsius = (float(response) - 32)*5/9\n",
    "\n",
    "print(response, 'degrees Fahrenheit is', celsius, 'degrees Celsius')"
   ]
  },
  {
   "cell_type": "markdown",
   "metadata": {},
   "source": [
    "-----\n",
    "\n",
    "## Ancillary Information\n",
    "\n",
    "The following links point you to additional resources that you might find helpful in learning this material.\n",
    "\n",
    "1. The official [Python3 Tutorial](https://docs.python.org/3/tutorial/index.html).\n",
    "2. An official guide to Python for [Beginners](https://www.python.org/about/gettingstarted/).\n",
    "3. The book [*Think Python*](http://greenteapress.com/wp/think-python-2e/) for Python3 provides a comprehensive view of Python for data science.\n",
    "\n",
    "-----"
   ]
  },
  {
   "cell_type": "markdown",
   "metadata": {
    "deletable": false,
    "editable": false,
    "tags": []
   },
   "source": [
    "**&copy; 2022 - Present: Matthew D. Dean, Ph.D.   \n",
    "Clinical Associate Professor of Business Analytics at William \\& Mary.**"
   ]
  }
 ],
 "metadata": {
  "kernelspec": {
   "display_name": "Python 3 (ipykernel)",
   "language": "python",
   "name": "python3"
  },
  "language_info": {
   "codemirror_mode": {
    "name": "ipython",
    "version": 3
   },
   "file_extension": ".py",
   "mimetype": "text/x-python",
   "name": "python",
   "nbconvert_exporter": "python",
   "pygments_lexer": "ipython3",
   "version": "3.8.8"
  }
 },
 "nbformat": 4,
 "nbformat_minor": 4
}
