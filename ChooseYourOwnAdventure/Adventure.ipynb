{
 "cells": [
  {
   "cell_type": "code",
   "execution_count": null,
   "id": "28cc19f6",
   "metadata": {},
   "outputs": [],
   "source": [
    "# Setup\n",
    "yes_no = [\"yes\", \"no\"]\n",
    "directions = [\"left\", \"right\", \"forward\", \"backward\"]\n",
    " \n",
    "# Introduction\n",
    "name = input(\"What is your name, adventurer?\\n\")\n",
    "print(\"Greetings, \" + name + \". Let us go on a quest!\")\n",
    "print(\"You find yourself on the edge of a dark forest.\")\n",
    "print(\"Can you find your way through?\\n\")\n",
    " \n",
    "# Start of game\n",
    "response = \"\"\n",
    "while response not in yes_no:\n",
    "    response = input(\"Would you like to step into the forest?\\nyes/no\\n\")\n",
    "    if response == \"yes\":\n",
    "        print(\"You head into the forest. You hear crows cawwing in the distance.\\n\")\n",
    "    elif response == \"no\":\n",
    "        print(\"You are not ready for this quest. Goodbye, \" + name + \".\")\n",
    "        quit()\n",
    "    else: \n",
    "        print(\"I didn't understand that.\\n\")\n",
    " \n",
    "# Next part of game\n",
    "response = \"\"\n",
    "while response not in directions:\n",
    "    print(\"To your left, you see a bear.\")\n",
    "    print(\"To your right, there is more forest.\")\n",
    "    print(\"There is a rock wall directly in front of you.\")\n",
    "    print(\"Behind you is the forest exit.\\n\")\n",
    "    response = input(\"What direction do you move?\\nleft/right/forward/backward\\n\")\n",
    "    if response == \"left\":\n",
    "        print(\"The bear eats you. Farewell, \" + name + \".\")\n",
    "        quit()\n",
    "    elif response == \"right\":\n",
    "        print(\"You head deeper into the forest.\\n\")\n",
    "    elif response == \"forward\":\n",
    "        print(\"You cannot scale the wall.\\n\")\n",
    "        response = \"\" \n",
    "    elif response == \"backward\":\n",
    "        print(\"You leave the forest. Goodbye, \" + name + \".\")\n",
    "        quit()\n",
    "    else:\n",
    "        print(\"I didn't understand that.\\n\")"
   ]
  },
  {
   "cell_type": "code",
   "execution_count": null,
   "id": "ecb150ca",
   "metadata": {},
   "outputs": [],
   "source": []
  }
 ],
 "metadata": {
  "kernelspec": {
   "display_name": "Python 3 (ipykernel)",
   "language": "python",
   "name": "python3"
  },
  "language_info": {
   "codemirror_mode": {
    "name": "ipython",
    "version": 3
   },
   "file_extension": ".py",
   "mimetype": "text/x-python",
   "name": "python",
   "nbconvert_exporter": "python",
   "pygments_lexer": "ipython3",
   "version": "3.9.9"
  }
 },
 "nbformat": 4,
 "nbformat_minor": 5
}
